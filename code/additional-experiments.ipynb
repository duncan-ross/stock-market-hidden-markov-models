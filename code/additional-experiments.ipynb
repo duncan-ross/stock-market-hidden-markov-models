{
 "cells": [
  {
   "cell_type": "code",
   "execution_count": 2,
   "metadata": {},
   "outputs": [],
   "source": [
    "from functions import load_predictions, calculate_mape_dpa"
   ]
  },
  {
   "cell_type": "code",
   "execution_count": 9,
   "metadata": {},
   "outputs": [
    {
     "name": "stdout",
     "output_type": "stream",
     "text": [
      "Number of Hidden States: 3\n",
      "{'MAPE': 0.018032310975446622, 'DPA': 0.5217391304347826}\n",
      "---\n",
      "Number of Hidden States: 4\n",
      "{'MAPE': 0.015564512752233282, 'DPA': 0.5652173913043478}\n",
      "---\n",
      "Number of Hidden States: 5\n",
      "{'MAPE': 0.015564512752233282, 'DPA': 0.5652173913043478}\n",
      "---\n",
      "Number of Hidden States: 6\n",
      "{'MAPE': 0.015932979362219338, 'DPA': 0.4673913043478261}\n",
      "---\n"
     ]
    }
   ],
   "source": [
    "# Experiment 1\n",
    "n_states = [3, 4, 5, 6]\n",
    "\n",
    "for n in n_states:\n",
    "    print(f\"Number of Hidden States: {n}\")\n",
    "    pred_df = load_predictions(\"AAPL\", latency=10, n_states=n)\n",
    "    pred_df = pred_df[pred_df.experiment_id == 1]\n",
    "    print(calculate_mape_dpa(pred_df.predicted, pred_df.close, pred_df.open))\n",
    "    print(\"---\")"
   ]
  },
  {
   "cell_type": "code",
   "execution_count": 8,
   "metadata": {},
   "outputs": [
    {
     "name": "stdout",
     "output_type": "stream",
     "text": [
      "Latency: 6\n",
      "{'MAPE': 0.02091557422360871, 'DPA': 0.5}\n",
      "---\n",
      "Latency: 10\n",
      "{'MAPE': 0.015564512752233282, 'DPA': 0.5652173913043478}\n",
      "---\n",
      "Latency: 20\n",
      "{'MAPE': 0.019525779010705666, 'DPA': 0.5217391304347826}\n",
      "---\n",
      "Latency: 50\n",
      "{'MAPE': 0.03445693011519408, 'DPA': 0.4673913043478261}\n",
      "---\n"
     ]
    }
   ],
   "source": [
    "# Experiment 2\n",
    "latency = [6, 10, 20, 50]\n",
    "\n",
    "for l in latency:\n",
    "    print(f\"Latency: {l}\")\n",
    "    pred_df = load_predictions(\"AAPL\", latency=l, n_states=4)\n",
    "    pred_df = pred_df[pred_df.experiment_id == 1]\n",
    "    print(calculate_mape_dpa(pred_df.predicted, pred_df.close, pred_df.open))\n",
    "    print(\"---\")"
   ]
  }
 ],
 "metadata": {
  "kernelspec": {
   "display_name": "Python 3",
   "language": "python",
   "name": "python3"
  },
  "language_info": {
   "codemirror_mode": {
    "name": "ipython",
    "version": 3
   },
   "file_extension": ".py",
   "mimetype": "text/x-python",
   "name": "python",
   "nbconvert_exporter": "python",
   "pygments_lexer": "ipython3",
   "version": "3.11.7"
  }
 },
 "nbformat": 4,
 "nbformat_minor": 2
}
