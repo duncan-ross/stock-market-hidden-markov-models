{
 "cells": [
  {
   "cell_type": "markdown",
   "metadata": {},
   "source": [
    "Replication of Paper's Results"
   ]
  },
  {
   "cell_type": "markdown",
   "metadata": {},
   "source": [
    "Experiment 1 - Robustness check on number of latent states\n",
    "\n",
    "Training HMM on train period ('2003-02-10', '2004-09-10')\n",
    "Generating Predictions for test period ('2004-09-13', '2005-01-21')\n",
    "100%|██████████| 92/92 [01:55<00:00,  1.25s/it]\n",
    "AAPL trial with latent states = 3, context window size = 10\n",
    "MAPE = 0.018032310975446626, DPA = 0.5217391304347826\n",
    "Training HMM on train period ('2003-02-10', '2004-09-10')\n",
    "Generating Predictions for test period ('2004-09-13', '2005-01-21')\n",
    "100%|██████████| 92/92 [02:49<00:00,  1.85s/it]\n",
    "AAPL trial with latent states = 5, context window size = 10\n",
    "MAPE = 0.01556451275223328, DPA = 0.5652173913043478\n",
    "Training HMM on train period ('2003-02-10', '2004-09-10')\n",
    "Generating Predictions for test period ('2004-09-13', '2005-01-21')\n",
    "100%|██████████| 92/92 [03:08<00:00,  2.04s/it]\n",
    "AAPL trial with latent states = 6, context window size = 10\n",
    "MAPE = 0.01799853283167973, DPA = 0.5217391304347826\n",
    "Training HMM on train period ('2003-02-10', '2004-09-10')\n",
    "Generating Predictions for test period ('2004-09-13', '2005-01-21')\n",
    "100%|██████████| 92/92 [03:47<00:00,  2.47s/it]\n",
    "AAPL trial with latent states = 8, context window size = 10\n",
    "MAPE = 0.019813101049105438, DPA = 0.4673913043478261"
   ]
  },
  {
   "cell_type": "markdown",
   "metadata": {},
   "source": [
    "Experiment 2 - Robustness check on context window size\n",
    "\n",
    "Training HMM on train period ('2003-02-10', '2004-09-10')\n",
    "Generating Predictions for test period ('2004-09-13', '2005-01-21')\n",
    "100%|██████████| 92/92 [02:41<00:00,  1.76s/it]\n",
    "AAPL trial with latent states = 4, context window size = 6\n",
    "MAPE = 0.020190013202262852, DPA = 0.4673913043478261\n",
    "--------------------------------------------------------------------------------\n",
    "Training HMM on train period ('2003-02-10', '2004-09-10')\n",
    "Generating Predictions for test period ('2004-09-13', '2005-01-21')\n",
    "100%|██████████| 92/92 [02:31<00:00,  1.65s/it]\n",
    "AAPL trial with latent states = 4, context window size = 20\n",
    "MAPE = 0.03103308427031748, DPA = 0.5434782608695652\n",
    "--------------------------------------------------------------------------------\n",
    "Training HMM on train period ('2003-02-10', '2004-09-10')\n",
    "Generating Predictions for test period ('2004-09-13', '2005-01-21')\n",
    "100%|██████████| 92/92 [02:33<00:00,  1.67s/it]\n",
    "AAPL trial with latent states = 4, context window size = 50\n",
    "MAPE = 0.028545792493187165, DPA = 0.5434782608695652\n",
    "--------------------------------------------------------------------------------"
   ]
  },
  {
   "cell_type": "markdown",
   "metadata": {},
   "source": [
    "Experiment 3 - Generalizability test on different stocks at same time period\n",
    "\n",
    "Training HMM on train period ('2003-02-10', '2004-09-10')\n",
    "Generating Predictions for test period ('2004-09-13', '2005-01-21')\n",
    "100%|██████████| 92/92 [02:12<00:00,  1.44s/it]\n",
    "FORD trial with latent states = 4, context window size = 10\n",
    "MAPE = 0.04928547908458648, DPA = 0.43478260869565216\n",
    "--------------------------------------------------------------------------------\n",
    "Training HMM on train period ('2003-02-10', '2004-09-10')\n",
    "Generating Predictions for test period ('2004-09-13', '2005-01-21')\n",
    "100%|██████████| 92/92 [02:31<00:00,  1.65s/it]\n",
    "MACYS trial with latent states = 4, context window size = 10\n",
    "MAPE = 0.012593953070271639, DPA = 0.5108695652173914\n",
    "--------------------------------------------------------------------------------\n",
    "Training HMM on train period ('2003-02-10', '2004-09-10')\n",
    "Generating Predictions for test period ('2004-09-13', '2005-01-21')\n",
    "100%|██████████| 92/92 [02:25<00:00,  1.58s/it]\n",
    "SP500 trial with latent states = 4, context window size = 10\n",
    "MAPE = 0.012041312248848975, DPA = 0.532608695652174\n",
    "--------------------------------------------------------------------------------"
   ]
  },
  {
   "cell_type": "markdown",
   "metadata": {},
   "source": [
    "Experiment 4 - Generalizability test of same stock at different time periods\n",
    "\n",
    "Training HMM on train period ('2005-02-10', '2005-09-09')\n",
    "Generating Predictions for test period ('2005-09-12', '2006-01-20')\n",
    "100%|██████████| 91/91 [02:20<00:00,  1.54s/it]\n",
    "AAPL trial with latent states = 4, context window size = 10\n",
    "MAPE = 0.02118933556395068, DPA = 0.6153846153846154\n",
    "--------------------------------------------------------------------------------\n",
    "Training HMM on train period ('2011-02-10', '2011-09-12')\n",
    "Generating Predictions for test period ('2011-09-13', '2012-01-23')\n",
    "100%|██████████| 91/91 [02:20<00:00,  1.55s/it]\n",
    "AAPL trial with latent states = 4, context window size = 10\n",
    "MAPE = 0.010416632111321406, DPA = 0.5164835164835165\n",
    "--------------------------------------------------------------------------------\n",
    "Training HMM on train period ('2015-02-10', '2015-09-10')\n",
    "Generating Predictions for test period ('2015-09-14', '2016-01-21')\n",
    "100%|██████████| 90/90 [02:36<00:00,  1.74s/it]\n",
    "AAPL trial with latent states = 4, context window size = 10\n",
    "MAPE = 0.012544328290483658, DPA = 0.4111111111111111\n",
    "--------------------------------------------------------------------------------"
   ]
  }
 ],
 "metadata": {
  "language_info": {
   "name": "python"
  }
 },
 "nbformat": 4,
 "nbformat_minor": 2
}
