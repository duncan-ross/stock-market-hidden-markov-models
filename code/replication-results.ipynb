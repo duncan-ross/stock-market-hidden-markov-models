{
 "cells": [
  {
   "cell_type": "code",
   "execution_count": 1,
   "metadata": {},
   "outputs": [],
   "source": [
    "from functions import load_predictions, calculate_mape_dpa"
   ]
  },
  {
   "cell_type": "code",
   "execution_count": 2,
   "metadata": {},
   "outputs": [
    {
     "name": "stdout",
     "output_type": "stream",
     "text": [
      "{'MAPE': 0.028905263645996684, 'DPA': 0.4673913043478261}\n",
      "{'MAPE': 0.027755142222551498, 'DPA': 0.45714285714285713}\n",
      "{'MAPE': 0.014180822856953814, 'DPA': 0.3548387096774194}\n",
      "{'MAPE': 0.009600027724679452, 'DPA': 0.5564516129032258}\n"
     ]
    }
   ],
   "source": [
    "# AAPL\n",
    "aapl = load_predictions(\"AAPL\", latency=10, n_states=4)\n",
    "for i in range(1, 5):\n",
    "    if i == 2:\n",
    "        exp_df = aapl[aapl.experiment_id == 1]\n",
    "        exp_df = exp_df[exp_df.date >= \"2004-10-13\"]\n",
    "    else:\n",
    "        exp_df = aapl[aapl.experiment_id == i]\n",
    "    p = exp_df.predicted.to_numpy()\n",
    "    c = exp_df.close.to_numpy()\n",
    "    s = exp_df.open.to_numpy()\n",
    "    print(calculate_mape_dpa(p, c, s))"
   ]
  },
  {
   "cell_type": "code",
   "execution_count": 3,
   "metadata": {},
   "outputs": [
    {
     "name": "stdout",
     "output_type": "stream",
     "text": [
      "{'MAPE': 0.007231592129720517, 'DPA': 0.35714285714285715}\n",
      "{'MAPE': 0.006708764587610183, 'DPA': 0.3804347826086957}\n",
      "{'MAPE': 0.021429366136271704, 'DPA': 0.4728682170542636}\n"
     ]
    }
   ],
   "source": [
    "# IBM\n",
    "ibm = load_predictions(\"IBM\", latency=10, n_states=4)\n",
    "for i in range(2, 5):\n",
    "    exp_df = ibm[ibm.experiment_id == i]\n",
    "    p = exp_df.predicted.to_numpy()\n",
    "    c = exp_df.close.to_numpy()\n",
    "    s = exp_df.open.to_numpy()\n",
    "    print(calculate_mape_dpa(p, c, s))"
   ]
  },
  {
   "cell_type": "code",
   "execution_count": 4,
   "metadata": {},
   "outputs": [
    {
     "name": "stdout",
     "output_type": "stream",
     "text": [
      "{'MAPE': 0.04071226864952799, 'DPA': 0.4076923076923077}\n"
     ]
    }
   ],
   "source": [
    "# DELL\n",
    "dell = load_predictions(\"DELL\", latency=10, n_states=4)\n",
    "p = dell.predicted.to_numpy()\n",
    "c = dell.close.to_numpy()\n",
    "s = dell.open.to_numpy()\n",
    "print(calculate_mape_dpa(p, c, s))"
   ]
  }
 ],
 "metadata": {
  "kernelspec": {
   "display_name": "Python 3",
   "language": "python",
   "name": "python3"
  },
  "language_info": {
   "codemirror_mode": {
    "name": "ipython",
    "version": 3
   },
   "file_extension": ".py",
   "mimetype": "text/x-python",
   "name": "python",
   "nbconvert_exporter": "python",
   "pygments_lexer": "ipython3",
   "version": "3.11.7"
  }
 },
 "nbformat": 4,
 "nbformat_minor": 2
}
