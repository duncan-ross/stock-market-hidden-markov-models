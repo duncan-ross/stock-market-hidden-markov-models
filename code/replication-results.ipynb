{
 "cells": [
  {
   "cell_type": "code",
   "execution_count": 1,
   "metadata": {},
   "outputs": [],
   "source": [
    "from functions import load_predictions, calculate_mape_dpa"
   ]
  },
  {
   "cell_type": "code",
   "execution_count": 2,
   "metadata": {},
   "outputs": [
    {
     "name": "stdout",
     "output_type": "stream",
     "text": [
      "{'MAPE': 0.015564512752233282, 'DPA': 0.5652173913043478}\n",
      "{'MAPE': 0.015598935045108387, 'DPA': 0.6142857142857143}\n",
      "{'MAPE': 0.009893985310077662, 'DPA': 0.6612903225806451}\n",
      "{'MAPE': 0.009470522949150116, 'DPA': 0.3467741935483871}\n"
     ]
    }
   ],
   "source": [
    "# AAPL\n",
    "aapl = load_predictions(\"AAPL\", latency=10, n_states=4)\n",
    "for i in range(1, 5):\n",
    "    if i == 2:\n",
    "        exp_df = aapl[aapl.experiment_id == 1]\n",
    "        exp_df = exp_df[exp_df.date >= \"2004-10-13\"]\n",
    "    else:\n",
    "        exp_df = aapl[aapl.experiment_id == i]\n",
    "    p = exp_df.predicted.to_numpy()\n",
    "    c = exp_df.close.to_numpy()\n",
    "    s = exp_df.open.to_numpy()\n",
    "    print(calculate_mape_dpa(p, c, s))"
   ]
  },
  {
   "cell_type": "code",
   "execution_count": 3,
   "metadata": {},
   "outputs": [
    {
     "name": "stdout",
     "output_type": "stream",
     "text": [
      "{'MAPE': 0.013608814064466538, 'DPA': 0.34285714285714286}\n",
      "{'MAPE': 0.012885398684269076, 'DPA': 0.3695652173913043}\n",
      "{'MAPE': 0.008041129874531261, 'DPA': 0.46511627906976744}\n"
     ]
    }
   ],
   "source": [
    "# IBM\n",
    "ibm = load_predictions(\"IBM\", latency=10, n_states=4)\n",
    "for i in range(2, 5):\n",
    "    if i == 2:\n",
    "        exp_df = ibm[ibm.experiment_id == 1]\n",
    "        exp_df = exp_df[exp_df.date >= \"2004-10-13\"]\n",
    "    else:\n",
    "        exp_df = ibm[ibm.experiment_id == i]\n",
    "    p = exp_df.predicted.to_numpy()\n",
    "    c = exp_df.close.to_numpy()\n",
    "    s = exp_df.open.to_numpy()\n",
    "    print(calculate_mape_dpa(p, c, s))"
   ]
  },
  {
   "cell_type": "code",
   "execution_count": 4,
   "metadata": {},
   "outputs": [
    {
     "name": "stdout",
     "output_type": "stream",
     "text": [
      "{'MAPE': 0.015659438242549124, 'DPA': 0.6307692307692307}\n"
     ]
    }
   ],
   "source": [
    "# DELL\n",
    "dell = load_predictions(\"DELL\", latency=10, n_states=4)\n",
    "p = dell.predicted.to_numpy()\n",
    "c = dell.close.to_numpy()\n",
    "s = dell.open.to_numpy()\n",
    "print(calculate_mape_dpa(p, c, s))"
   ]
  }
 ],
 "metadata": {
  "kernelspec": {
   "display_name": "Python 3",
   "language": "python",
   "name": "python3"
  },
  "language_info": {
   "codemirror_mode": {
    "name": "ipython",
    "version": 3
   },
   "file_extension": ".py",
   "mimetype": "text/x-python",
   "name": "python",
   "nbconvert_exporter": "python",
   "pygments_lexer": "ipython3",
   "version": "3.11.7"
  }
 },
 "nbformat": 4,
 "nbformat_minor": 2
}
