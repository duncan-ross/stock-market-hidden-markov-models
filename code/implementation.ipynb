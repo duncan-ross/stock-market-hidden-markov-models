{
 "cells": [
  {
   "cell_type": "code",
   "execution_count": 9,
   "metadata": {},
   "outputs": [],
   "source": [
    "from constants import train_trials\n",
    "from functions import load_data, run_trial"
   ]
  },
  {
   "cell_type": "code",
   "execution_count": 3,
   "metadata": {},
   "outputs": [],
   "source": [
    "dfs = load_data(tcks=(\"AAPL\", \"DELL\", \"FORD\", \"IBM\", \"MACYS\", \"SP500\"))"
   ]
  },
  {
   "cell_type": "code",
   "execution_count": 3,
   "metadata": {},
   "outputs": [
    {
     "name": "stdout",
     "output_type": "stream",
     "text": [
      "Training HMM on train period ('2003-02-10', '2004-09-10')\n",
      "Generating Predictions for test period ('2004-09-13', '2005-01-21')\n"
     ]
    },
    {
     "name": "stderr",
     "output_type": "stream",
     "text": [
      "100%|██████████| 92/92 [02:19<00:00,  1.52s/it]\n"
     ]
    },
    {
     "name": "stdout",
     "output_type": "stream",
     "text": [
      "AAPL trial: MAPE = 0.018032310975446626, DPA = 0.5217391304347826\n",
      "Training HMM on train period ('2003-02-10', '2004-09-10')\n",
      "Generating Predictions for test period ('2004-10-13', '2005-01-21')\n"
     ]
    },
    {
     "name": "stderr",
     "output_type": "stream",
     "text": [
      " 90%|█████████ | 63/70 [01:37<00:10,  1.54s/it]\n"
     ]
    },
    {
     "ename": "KeyboardInterrupt",
     "evalue": "",
     "output_type": "error",
     "traceback": [
      "\u001b[0;31m---------------------------------------------------------------------------\u001b[0m",
      "\u001b[0;31mKeyboardInterrupt\u001b[0m                         Traceback (most recent call last)",
      "Cell \u001b[0;32mIn[3], line 15\u001b[0m\n\u001b[1;32m     12\u001b[0m dpas[tck] \u001b[38;5;241m=\u001b[39m {}\n\u001b[1;32m     13\u001b[0m \u001b[38;5;28;01mfor\u001b[39;00m i, trial \u001b[38;5;129;01min\u001b[39;00m trials\u001b[38;5;241m.\u001b[39mitems():\n\u001b[1;32m     14\u001b[0m     \u001b[38;5;66;03m# TODO: Write predictions to CSV file\u001b[39;00m\n\u001b[0;32m---> 15\u001b[0m     results \u001b[38;5;241m=\u001b[39m \u001b[43mrun_trial\u001b[49m\u001b[43m(\u001b[49m\n\u001b[1;32m     16\u001b[0m \u001b[43m        \u001b[49m\u001b[43mdfs\u001b[49m\u001b[43m,\u001b[49m\n\u001b[1;32m     17\u001b[0m \u001b[43m        \u001b[49m\u001b[43mtck\u001b[49m\u001b[38;5;241;43m=\u001b[39;49m\u001b[43mtck\u001b[49m\u001b[43m,\u001b[49m\u001b[43m \u001b[49m\u001b[43mtrain_period\u001b[49m\u001b[38;5;241;43m=\u001b[39;49m\u001b[43mtrial\u001b[49m\u001b[43m[\u001b[49m\u001b[38;5;124;43m\"\u001b[39;49m\u001b[38;5;124;43mtrain\u001b[39;49m\u001b[38;5;124;43m\"\u001b[39;49m\u001b[43m]\u001b[49m\u001b[43m,\u001b[49m\u001b[43m \u001b[49m\u001b[43mtest_period\u001b[49m\u001b[38;5;241;43m=\u001b[39;49m\u001b[43mtrial\u001b[49m\u001b[43m[\u001b[49m\u001b[38;5;124;43m\"\u001b[39;49m\u001b[38;5;124;43mtest\u001b[39;49m\u001b[38;5;124;43m\"\u001b[39;49m\u001b[43m]\u001b[49m\u001b[43m,\u001b[49m\n\u001b[1;32m     18\u001b[0m \u001b[43m        \u001b[49m\u001b[43mlatency\u001b[49m\u001b[38;5;241;43m=\u001b[39;49m\u001b[43mlatency\u001b[49m\u001b[43m,\u001b[49m\u001b[43m \u001b[49m\u001b[43mn_states\u001b[49m\u001b[38;5;241;43m=\u001b[39;49m\u001b[43mn_states\u001b[49m\n\u001b[1;32m     19\u001b[0m \u001b[43m    \u001b[49m\u001b[43m)\u001b[49m\n\u001b[1;32m     20\u001b[0m     mapes[tck][i] \u001b[38;5;241m=\u001b[39m results[\u001b[38;5;124m\"\u001b[39m\u001b[38;5;124mMAPE\u001b[39m\u001b[38;5;124m\"\u001b[39m]\n\u001b[1;32m     21\u001b[0m     dpas[tck][i] \u001b[38;5;241m=\u001b[39m results[\u001b[38;5;124m\"\u001b[39m\u001b[38;5;124mDPA\u001b[39m\u001b[38;5;124m\"\u001b[39m]\n",
      "File \u001b[0;32m~/Documents/Joe_Documents/Stanford/STATS 217/stock-market-hidden-markov-models/code/functions.py:189\u001b[0m, in \u001b[0;36mrun_trial\u001b[0;34m(dfs, tck, train_period, test_period, latency, n_states)\u001b[0m\n\u001b[1;32m    186\u001b[0m \u001b[38;5;66;03m# print(\"Training Complete\")\u001b[39;00m\n\u001b[1;32m    188\u001b[0m \u001b[38;5;28mprint\u001b[39m(\u001b[38;5;124mf\u001b[39m\u001b[38;5;124m\"\u001b[39m\u001b[38;5;124mGenerating Predictions for test period \u001b[39m\u001b[38;5;132;01m{\u001b[39;00mtest_period\u001b[38;5;132;01m}\u001b[39;00m\u001b[38;5;124m\"\u001b[39m)\n\u001b[0;32m--> 189\u001b[0m s_test, c_test, p_test \u001b[38;5;241m=\u001b[39m predict_hmm(\n\u001b[1;32m    190\u001b[0m     df,\n\u001b[1;32m    191\u001b[0m     start_date\u001b[38;5;241m=\u001b[39mstart_test,\n\u001b[1;32m    192\u001b[0m     end_date\u001b[38;5;241m=\u001b[39mend_test,\n\u001b[1;32m    193\u001b[0m     hmm_model\u001b[38;5;241m=\u001b[39mhmm_model,\n\u001b[1;32m    194\u001b[0m     frac_change\u001b[38;5;241m=\u001b[39mtrain_fracs[\u001b[38;5;241m0\u001b[39m],\n\u001b[1;32m    195\u001b[0m     edges\u001b[38;5;241m=\u001b[39mtrain_edges,\n\u001b[1;32m    196\u001b[0m     x_max\u001b[38;5;241m=\u001b[39mx_max,\n\u001b[1;32m    197\u001b[0m     y_max\u001b[38;5;241m=\u001b[39my_max,\n\u001b[1;32m    198\u001b[0m     latency\u001b[38;5;241m=\u001b[39mlatency,\n\u001b[1;32m    199\u001b[0m )\n\u001b[1;32m    200\u001b[0m \u001b[38;5;66;03m# print(\"Predictions Generated\")\u001b[39;00m\n\u001b[1;32m    201\u001b[0m \n\u001b[1;32m    202\u001b[0m \u001b[38;5;66;03m# TODO: Write predictions to CSV file\u001b[39;00m\n\u001b[1;32m    204\u001b[0m results \u001b[38;5;241m=\u001b[39m calculate_mape_dpa(p\u001b[38;5;241m=\u001b[39mp_test, c\u001b[38;5;241m=\u001b[39mc_test, s\u001b[38;5;241m=\u001b[39ms_test)\n",
      "File \u001b[0;32m~/Documents/Joe_Documents/Stanford/STATS 217/stock-market-hidden-markov-models/code/functions.py:128\u001b[0m, in \u001b[0;36mpredict_hmm\u001b[0;34m(df, start_date, end_date, hmm_model, frac_change, edges, x_max, y_max, latency, include_buffer)\u001b[0m\n\u001b[1;32m    126\u001b[0m \u001b[38;5;28;01mfor\u001b[39;00m z \u001b[38;5;129;01min\u001b[39;00m \u001b[38;5;28mrange\u001b[39m(\u001b[38;5;241m10\u001b[39m):\n\u001b[1;32m    127\u001b[0m     n_i \u001b[38;5;241m=\u001b[39m (z \u001b[38;5;241m-\u001b[39m \u001b[38;5;241m1\u001b[39m) \u001b[38;5;241m*\u001b[39m (x_max \u001b[38;5;241m*\u001b[39m y_max) \u001b[38;5;241m+\u001b[39m (y \u001b[38;5;241m-\u001b[39m \u001b[38;5;241m1\u001b[39m) \u001b[38;5;241m*\u001b[39m x_max \u001b[38;5;241m+\u001b[39m x\n\u001b[0;32m--> 128\u001b[0m     score \u001b[38;5;241m=\u001b[39m \u001b[43mhmm_model\u001b[49m\u001b[38;5;241;43m.\u001b[39;49m\u001b[43mscore\u001b[49m\u001b[43m(\u001b[49m\n\u001b[1;32m    129\u001b[0m \u001b[43m        \u001b[49m\u001b[43mnp\u001b[49m\u001b[38;5;241;43m.\u001b[39;49m\u001b[43mconcatenate\u001b[49m\u001b[43m(\u001b[49m\u001b[43m(\u001b[49m\u001b[43mx_hmm\u001b[49m\u001b[43m,\u001b[49m\u001b[43m \u001b[49m\u001b[43mnp\u001b[49m\u001b[38;5;241;43m.\u001b[39;49m\u001b[43marray\u001b[49m\u001b[43m(\u001b[49m\u001b[43m[\u001b[49m\u001b[43mn_i\u001b[49m\u001b[43m]\u001b[49m\u001b[43m)\u001b[49m\u001b[43m)\u001b[49m\u001b[43m)\u001b[49m\u001b[38;5;241;43m.\u001b[39;49m\u001b[43mreshape\u001b[49m\u001b[43m(\u001b[49m\u001b[38;5;241;43m-\u001b[39;49m\u001b[38;5;241;43m1\u001b[39;49m\u001b[43m,\u001b[49m\u001b[43m \u001b[49m\u001b[38;5;241;43m1\u001b[39;49m\u001b[43m)\u001b[49m\n\u001b[1;32m    130\u001b[0m \u001b[43m    \u001b[49m\u001b[43m)\u001b[49m\n\u001b[1;32m    131\u001b[0m     \u001b[38;5;28;01mif\u001b[39;00m score \u001b[38;5;241m>\u001b[39m best_ll:\n\u001b[1;32m    132\u001b[0m         best_x \u001b[38;5;241m=\u001b[39m x\n",
      "File \u001b[0;32m~/opt/anaconda3/envs/cs224n/lib/python3.10/site-packages/hmmlearn/base.py:232\u001b[0m, in \u001b[0;36m_AbstractHMM.score\u001b[0;34m(self, X, lengths)\u001b[0m\n\u001b[1;32m    209\u001b[0m \u001b[38;5;28;01mdef\u001b[39;00m \u001b[38;5;21mscore\u001b[39m(\u001b[38;5;28mself\u001b[39m, X, lengths\u001b[38;5;241m=\u001b[39m\u001b[38;5;28;01mNone\u001b[39;00m):\n\u001b[1;32m    210\u001b[0m     \u001b[38;5;124;03m\"\"\"\u001b[39;00m\n\u001b[1;32m    211\u001b[0m \u001b[38;5;124;03m    Compute the log probability under the model.\u001b[39;00m\n\u001b[1;32m    212\u001b[0m \n\u001b[0;32m   (...)\u001b[0m\n\u001b[1;32m    230\u001b[0m \u001b[38;5;124;03m    decode : Find most likely state sequence corresponding to ``X``.\u001b[39;00m\n\u001b[1;32m    231\u001b[0m \u001b[38;5;124;03m    \"\"\"\u001b[39;00m\n\u001b[0;32m--> 232\u001b[0m     \u001b[38;5;28;01mreturn\u001b[39;00m \u001b[38;5;28;43mself\u001b[39;49m\u001b[38;5;241;43m.\u001b[39;49m\u001b[43m_score\u001b[49m\u001b[43m(\u001b[49m\u001b[43mX\u001b[49m\u001b[43m,\u001b[49m\u001b[43m \u001b[49m\u001b[43mlengths\u001b[49m\u001b[43m,\u001b[49m\u001b[43m \u001b[49m\u001b[43mcompute_posteriors\u001b[49m\u001b[38;5;241;43m=\u001b[39;49m\u001b[38;5;28;43;01mFalse\u001b[39;49;00m\u001b[43m)\u001b[49m[\u001b[38;5;241m0\u001b[39m]\n",
      "File \u001b[0;32m~/opt/anaconda3/envs/cs224n/lib/python3.10/site-packages/hmmlearn/base.py:250\u001b[0m, in \u001b[0;36m_AbstractHMM._score\u001b[0;34m(self, X, lengths, compute_posteriors)\u001b[0m\n\u001b[1;32m    245\u001b[0m X \u001b[38;5;241m=\u001b[39m check_array(X)\n\u001b[1;32m    246\u001b[0m impl \u001b[38;5;241m=\u001b[39m {\n\u001b[1;32m    247\u001b[0m     \u001b[38;5;124m\"\u001b[39m\u001b[38;5;124mscaling\u001b[39m\u001b[38;5;124m\"\u001b[39m: \u001b[38;5;28mself\u001b[39m\u001b[38;5;241m.\u001b[39m_score_scaling,\n\u001b[1;32m    248\u001b[0m     \u001b[38;5;124m\"\u001b[39m\u001b[38;5;124mlog\u001b[39m\u001b[38;5;124m\"\u001b[39m: \u001b[38;5;28mself\u001b[39m\u001b[38;5;241m.\u001b[39m_score_log,\n\u001b[1;32m    249\u001b[0m }[\u001b[38;5;28mself\u001b[39m\u001b[38;5;241m.\u001b[39mimplementation]\n\u001b[0;32m--> 250\u001b[0m \u001b[38;5;28;01mreturn\u001b[39;00m \u001b[43mimpl\u001b[49m\u001b[43m(\u001b[49m\n\u001b[1;32m    251\u001b[0m \u001b[43m    \u001b[49m\u001b[43mX\u001b[49m\u001b[38;5;241;43m=\u001b[39;49m\u001b[43mX\u001b[49m\u001b[43m,\u001b[49m\u001b[43m \u001b[49m\u001b[43mlengths\u001b[49m\u001b[38;5;241;43m=\u001b[39;49m\u001b[43mlengths\u001b[49m\u001b[43m,\u001b[49m\u001b[43m \u001b[49m\u001b[43mcompute_posteriors\u001b[49m\u001b[38;5;241;43m=\u001b[39;49m\u001b[43mcompute_posteriors\u001b[49m\u001b[43m)\u001b[49m\n",
      "File \u001b[0;32m~/opt/anaconda3/envs/cs224n/lib/python3.10/site-packages/hmmlearn/base.py:262\u001b[0m, in \u001b[0;36m_AbstractHMM._score_log\u001b[0;34m(self, X, lengths, compute_posteriors)\u001b[0m\n\u001b[1;32m    260\u001b[0m sub_posteriors \u001b[38;5;241m=\u001b[39m [np\u001b[38;5;241m.\u001b[39mempty((\u001b[38;5;241m0\u001b[39m, \u001b[38;5;28mself\u001b[39m\u001b[38;5;241m.\u001b[39mn_components))]\n\u001b[1;32m    261\u001b[0m \u001b[38;5;28;01mfor\u001b[39;00m sub_X \u001b[38;5;129;01min\u001b[39;00m _utils\u001b[38;5;241m.\u001b[39msplit_X_lengths(X, lengths):\n\u001b[0;32m--> 262\u001b[0m     log_frameprob \u001b[38;5;241m=\u001b[39m \u001b[38;5;28;43mself\u001b[39;49m\u001b[38;5;241;43m.\u001b[39;49m\u001b[43m_compute_log_likelihood\u001b[49m\u001b[43m(\u001b[49m\u001b[43msub_X\u001b[49m\u001b[43m)\u001b[49m\n\u001b[1;32m    263\u001b[0m     log_probij, fwdlattice \u001b[38;5;241m=\u001b[39m _hmmc\u001b[38;5;241m.\u001b[39mforward_log(\n\u001b[1;32m    264\u001b[0m         \u001b[38;5;28mself\u001b[39m\u001b[38;5;241m.\u001b[39mstartprob_, \u001b[38;5;28mself\u001b[39m\u001b[38;5;241m.\u001b[39mtransmat_, log_frameprob)\n\u001b[1;32m    265\u001b[0m     log_prob \u001b[38;5;241m+\u001b[39m\u001b[38;5;241m=\u001b[39m log_probij\n",
      "File \u001b[0;32m~/opt/anaconda3/envs/cs224n/lib/python3.10/site-packages/hmmlearn/_emissions.py:218\u001b[0m, in \u001b[0;36mBaseGMMHMM._compute_log_likelihood\u001b[0;34m(self, X)\u001b[0m\n\u001b[1;32m    216\u001b[0m \u001b[38;5;28;01mfor\u001b[39;00m i \u001b[38;5;129;01min\u001b[39;00m \u001b[38;5;28mrange\u001b[39m(\u001b[38;5;28mself\u001b[39m\u001b[38;5;241m.\u001b[39mn_components):\n\u001b[1;32m    217\u001b[0m     log_denses \u001b[38;5;241m=\u001b[39m \u001b[38;5;28mself\u001b[39m\u001b[38;5;241m.\u001b[39m_compute_log_weighted_gaussian_densities(X, i)\n\u001b[0;32m--> 218\u001b[0m     \u001b[38;5;28;01mwith\u001b[39;00m np\u001b[38;5;241m.\u001b[39merrstate(under\u001b[38;5;241m=\u001b[39m\u001b[38;5;124m\"\u001b[39m\u001b[38;5;124mignore\u001b[39m\u001b[38;5;124m\"\u001b[39m):\n\u001b[1;32m    219\u001b[0m         logprobs[:, i] \u001b[38;5;241m=\u001b[39m special\u001b[38;5;241m.\u001b[39mlogsumexp(log_denses, axis\u001b[38;5;241m=\u001b[39m\u001b[38;5;241m1\u001b[39m)\n\u001b[1;32m    220\u001b[0m \u001b[38;5;28;01mreturn\u001b[39;00m logprobs\n",
      "File \u001b[0;32m~/opt/anaconda3/envs/cs224n/lib/python3.10/site-packages/numpy/core/_ufunc_config.py:437\u001b[0m, in \u001b[0;36merrstate.__exit__\u001b[0;34m(self, *exc_info)\u001b[0m\n\u001b[1;32m    435\u001b[0m \u001b[38;5;28;01mdef\u001b[39;00m \u001b[38;5;21m__exit__\u001b[39m(\u001b[38;5;28mself\u001b[39m, \u001b[38;5;241m*\u001b[39mexc_info):\n\u001b[1;32m    436\u001b[0m     seterr(\u001b[38;5;241m*\u001b[39m\u001b[38;5;241m*\u001b[39m\u001b[38;5;28mself\u001b[39m\u001b[38;5;241m.\u001b[39moldstate)\n\u001b[0;32m--> 437\u001b[0m     \u001b[38;5;28;01mif\u001b[39;00m \u001b[38;5;28mself\u001b[39m\u001b[38;5;241m.\u001b[39mcall \u001b[38;5;129;01mis\u001b[39;00m \u001b[38;5;129;01mnot\u001b[39;00m _Unspecified:\n\u001b[1;32m    438\u001b[0m         seterrcall(\u001b[38;5;28mself\u001b[39m\u001b[38;5;241m.\u001b[39moldcall)\n",
      "\u001b[0;31mKeyboardInterrupt\u001b[0m: "
     ]
    }
   ],
   "source": [
    "# Replicate trials from the paper\n",
    "mapes = {}\n",
    "dpas = {}\n",
    "preds = {}\n",
    "\n",
    "# Paper constants (adjust as needed)\n",
    "latency = 10\n",
    "n_states = 4\n",
    "\n",
    "for tck, trials in train_trials.items():\n",
    "    mapes[tck] = {}\n",
    "    dpas[tck] = {}\n",
    "    for i, trial in trials.items():\n",
    "        # TODO: Write predictions to CSV file\n",
    "        results = run_trial(\n",
    "            dfs,\n",
    "            tck=tck, train_period=trial[\"train\"], test_period=trial[\"test\"],\n",
    "            latency=latency, n_states=n_states\n",
    "        )\n",
    "        mapes[tck][i] = results[\"MAPE\"]\n",
    "        dpas[tck][i] = results[\"DPA\"]"
   ]
  },
  {
   "cell_type": "code",
   "execution_count": 11,
   "metadata": {},
   "outputs": [],
   "source": [
    "# Demo code\n",
    "tck = \"AAPL\" # Ticker label (or the prefix of the CSV)\n",
    "train_period = (\"2021-01-04\", \"2022-01-03\") # Training Period\n",
    "test_period = (\"2023-01-03\", \"2023-06-30\") # Testing Period\n",
    "latency = 10 # How far back do you want to look?\n",
    "n_states = 4 # How many latent states do you want?\n",
    "\n",
    "# Do not need to edit the following code\n",
    "# Docstring in functions.py\n",
    "run_trial(\n",
    "    dfs, tck, train_period, test_period, latency=latency, n_states=n_states\n",
    ")"
   ]
  },
  {
   "cell_type": "code",
   "execution_count": 3,
   "metadata": {},
   "outputs": [
    {
     "name": "stdout",
     "output_type": "stream",
     "text": [
      "Training HMM on train period ('2003-02-10', '2004-09-10')\n",
      "Generating Predictions for test period ('2004-09-13', '2005-01-21')\n"
     ]
    },
    {
     "name": "stderr",
     "output_type": "stream",
     "text": [
      "100%|██████████| 92/92 [01:55<00:00,  1.25s/it]\n"
     ]
    },
    {
     "name": "stdout",
     "output_type": "stream",
     "text": [
      "AAPL trial with latent states = 3, context window size = 10\n",
      "MAPE = 0.018032310975446626, DPA = 0.5217391304347826\n",
      "Training HMM on train period ('2003-02-10', '2004-09-10')\n",
      "Generating Predictions for test period ('2004-09-13', '2005-01-21')\n"
     ]
    },
    {
     "name": "stderr",
     "output_type": "stream",
     "text": [
      "100%|██████████| 92/92 [02:49<00:00,  1.85s/it]\n"
     ]
    },
    {
     "name": "stdout",
     "output_type": "stream",
     "text": [
      "AAPL trial with latent states = 5, context window size = 10\n",
      "MAPE = 0.01556451275223328, DPA = 0.5652173913043478\n",
      "Training HMM on train period ('2003-02-10', '2004-09-10')\n",
      "Generating Predictions for test period ('2004-09-13', '2005-01-21')\n"
     ]
    },
    {
     "name": "stderr",
     "output_type": "stream",
     "text": [
      "100%|██████████| 92/92 [03:08<00:00,  2.04s/it]\n"
     ]
    },
    {
     "name": "stdout",
     "output_type": "stream",
     "text": [
      "AAPL trial with latent states = 6, context window size = 10\n",
      "MAPE = 0.01799853283167973, DPA = 0.5217391304347826\n",
      "Training HMM on train period ('2003-02-10', '2004-09-10')\n",
      "Generating Predictions for test period ('2004-09-13', '2005-01-21')\n"
     ]
    },
    {
     "name": "stderr",
     "output_type": "stream",
     "text": [
      "100%|██████████| 92/92 [03:47<00:00,  2.47s/it]"
     ]
    },
    {
     "name": "stdout",
     "output_type": "stream",
     "text": [
      "AAPL trial with latent states = 8, context window size = 10\n",
      "MAPE = 0.019813101049105438, DPA = 0.4673913043478261\n"
     ]
    },
    {
     "name": "stderr",
     "output_type": "stream",
     "text": [
      "\n"
     ]
    }
   ],
   "source": [
    "# Experiment 1 - Robustness check on number of latent statesX\n",
    "\n",
    "tck = \"AAPL\" # Ticker label (or the prefix of the CSV)\n",
    "train_period = (\"2003-02-10\", \"2004-09-10\") # Training Period\n",
    "test_period = (\"2004-09-13\", \"2005-01-21\") # Testing Period\n",
    "latency = 10\n",
    "n_states = [3, 5, 6, 8]\n",
    "\n",
    "for n in n_states:\n",
    "    run_trial(\n",
    "        dfs, tck, train_period, test_period, latency=latency, n_states=n\n",
    ")"
   ]
  },
  {
   "cell_type": "code",
   "execution_count": 10,
   "metadata": {},
   "outputs": [
    {
     "name": "stdout",
     "output_type": "stream",
     "text": [
      "Training HMM on train period ('2003-02-10', '2004-09-10')\n",
      "Generating Predictions for test period ('2004-09-13', '2005-01-21')\n"
     ]
    },
    {
     "name": "stderr",
     "output_type": "stream",
     "text": [
      "100%|██████████| 92/92 [02:41<00:00,  1.76s/it]\n"
     ]
    },
    {
     "name": "stdout",
     "output_type": "stream",
     "text": [
      "AAPL trial with latent states = 4, context window size = 6\n",
      "MAPE = 0.020190013202262852, DPA = 0.4673913043478261\n",
      "--------------------------------------------------------------------------------\n",
      "Training HMM on train period ('2003-02-10', '2004-09-10')\n",
      "Generating Predictions for test period ('2004-09-13', '2005-01-21')\n"
     ]
    },
    {
     "name": "stderr",
     "output_type": "stream",
     "text": [
      "100%|██████████| 92/92 [02:31<00:00,  1.65s/it]\n"
     ]
    },
    {
     "name": "stdout",
     "output_type": "stream",
     "text": [
      "AAPL trial with latent states = 4, context window size = 20\n",
      "MAPE = 0.03103308427031748, DPA = 0.5434782608695652\n",
      "--------------------------------------------------------------------------------\n",
      "Training HMM on train period ('2003-02-10', '2004-09-10')\n",
      "Generating Predictions for test period ('2004-09-13', '2005-01-21')\n"
     ]
    },
    {
     "name": "stderr",
     "output_type": "stream",
     "text": [
      "100%|██████████| 92/92 [02:33<00:00,  1.67s/it]"
     ]
    },
    {
     "name": "stdout",
     "output_type": "stream",
     "text": [
      "AAPL trial with latent states = 4, context window size = 50\n",
      "MAPE = 0.028545792493187165, DPA = 0.5434782608695652\n",
      "--------------------------------------------------------------------------------\n"
     ]
    },
    {
     "name": "stderr",
     "output_type": "stream",
     "text": [
      "\n"
     ]
    }
   ],
   "source": [
    "# Experiment 2 - Robustness check on context window size\n",
    "\n",
    "tck = \"AAPL\" # Ticker label (or the prefix of the CSV)\n",
    "train_period = (\"2003-02-10\", \"2004-09-10\") # Training Period\n",
    "test_period = (\"2004-09-13\", \"2005-01-21\") # Testing Period\n",
    "latency = [6, 20, 50]\n",
    "n_states = 4\n",
    "\n",
    "for l in latency:\n",
    "    run_trial(\n",
    "        dfs, tck, train_period, test_period, latency=l, n_states=n_states\n",
    ")"
   ]
  },
  {
   "cell_type": "code",
   "execution_count": 4,
   "metadata": {},
   "outputs": [
    {
     "name": "stdout",
     "output_type": "stream",
     "text": [
      "Training HMM on train period ('2003-02-10', '2004-09-10')\n",
      "Generating Predictions for test period ('2004-09-13', '2005-01-21')\n"
     ]
    },
    {
     "name": "stderr",
     "output_type": "stream",
     "text": [
      "100%|██████████| 92/92 [02:12<00:00,  1.44s/it]\n"
     ]
    },
    {
     "name": "stdout",
     "output_type": "stream",
     "text": [
      "FORD trial with latent states = 4, context window size = 10\n",
      "MAPE = 0.04928547908458648, DPA = 0.43478260869565216\n",
      "--------------------------------------------------------------------------------\n",
      "Training HMM on train period ('2003-02-10', '2004-09-10')\n",
      "Generating Predictions for test period ('2004-09-13', '2005-01-21')\n"
     ]
    },
    {
     "name": "stderr",
     "output_type": "stream",
     "text": [
      "100%|██████████| 92/92 [02:31<00:00,  1.65s/it]\n"
     ]
    },
    {
     "name": "stdout",
     "output_type": "stream",
     "text": [
      "MACYS trial with latent states = 4, context window size = 10\n",
      "MAPE = 0.012593953070271639, DPA = 0.5108695652173914\n",
      "--------------------------------------------------------------------------------\n",
      "Training HMM on train period ('2003-02-10', '2004-09-10')\n",
      "Generating Predictions for test period ('2004-09-13', '2005-01-21')\n"
     ]
    },
    {
     "name": "stderr",
     "output_type": "stream",
     "text": [
      "100%|██████████| 92/92 [02:25<00:00,  1.58s/it]"
     ]
    },
    {
     "name": "stdout",
     "output_type": "stream",
     "text": [
      "SP500 trial with latent states = 4, context window size = 10\n",
      "MAPE = 0.012041312248848975, DPA = 0.532608695652174\n",
      "--------------------------------------------------------------------------------\n"
     ]
    },
    {
     "name": "stderr",
     "output_type": "stream",
     "text": [
      "\n"
     ]
    }
   ],
   "source": [
    "# Experiment 3 - Generalizability test on different stocks at same time period\n",
    "\n",
    "tcks = [\"FORD\", \"MACYS\", \"SP500\"] # Ticker label (or the prefix of the CSV)\n",
    "train_period = (\"2003-02-10\", \"2004-09-10\") # Training Period\n",
    "test_period = (\"2004-09-13\", \"2005-01-21\") # Testing Period\n",
    "latency = 10\n",
    "n_states = 4\n",
    "\n",
    "for tck in tcks:\n",
    "    run_trial(\n",
    "        dfs, tck, train_period, test_period, latency=latency, n_states=n_states\n",
    ")"
   ]
  },
  {
   "cell_type": "code",
   "execution_count": 8,
   "metadata": {},
   "outputs": [
    {
     "name": "stdout",
     "output_type": "stream",
     "text": [
      "Training HMM on train period ('2011-02-10', '2011-09-12')\n",
      "Generating Predictions for test period ('2011-09-13', '2012-01-23')\n"
     ]
    },
    {
     "name": "stderr",
     "output_type": "stream",
     "text": [
      "100%|██████████| 91/91 [02:20<00:00,  1.55s/it]\n"
     ]
    },
    {
     "name": "stdout",
     "output_type": "stream",
     "text": [
      "AAPL trial with latent states = 4, context window size = 10\n",
      "MAPE = 0.010416632111321406, DPA = 0.5164835164835165\n",
      "--------------------------------------------------------------------------------\n",
      "Training HMM on train period ('2015-02-10', '2015-09-10')\n",
      "Generating Predictions for test period ('2015-09-14', '2016-01-21')\n"
     ]
    },
    {
     "name": "stderr",
     "output_type": "stream",
     "text": [
      "100%|██████████| 90/90 [02:36<00:00,  1.74s/it]"
     ]
    },
    {
     "name": "stdout",
     "output_type": "stream",
     "text": [
      "AAPL trial with latent states = 4, context window size = 10\n",
      "MAPE = 0.012544328290483658, DPA = 0.4111111111111111\n",
      "--------------------------------------------------------------------------------\n"
     ]
    },
    {
     "name": "stderr",
     "output_type": "stream",
     "text": [
      "\n"
     ]
    }
   ],
   "source": [
    "# Experiment 4 - Generalizability test of same stock at different time periods\n",
    "\n",
    "tck = \"AAPL\" # Ticker label (or the prefix of the CSV)\n",
    "train_periods = [(\"2005-02-10\", \"2005-09-09\"), \n",
    "                 (\"2011-02-10\", \"2011-09-12\"),\n",
    "                 (\"2015-02-10\", \"2015-09-10\")] \n",
    "test_periods = [(\"2005-09-12\", \"2006-01-20\"), \n",
    "                (\"2011-09-13\", \"2012-01-23\"),\n",
    "                (\"2015-09-14\", \"2016-01-21\")] \n",
    "latency = 10\n",
    "n_states = 4\n",
    "\n",
    "for i in range(len(train_periods)):\n",
    "    train_period = train_periods[i]\n",
    "    test_period = test_periods[i]\n",
    "    run_trial(\n",
    "        dfs, tck, train_period, test_period, latency=latency, n_states=n_states\n",
    ")"
   ]
  },
  {
   "cell_type": "code",
   "execution_count": null,
   "metadata": {},
   "outputs": [],
   "source": []
  }
 ],
 "metadata": {
  "kernelspec": {
   "display_name": "cs224n",
   "language": "python",
   "name": "cs224n"
  },
  "language_info": {
   "codemirror_mode": {
    "name": "ipython",
    "version": 3
   },
   "file_extension": ".py",
   "mimetype": "text/x-python",
   "name": "python",
   "nbconvert_exporter": "python",
   "pygments_lexer": "ipython3",
   "version": "3.7.15"
  }
 },
 "nbformat": 4,
 "nbformat_minor": 2
}
