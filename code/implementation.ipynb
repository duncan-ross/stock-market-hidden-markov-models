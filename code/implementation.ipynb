{
 "cells": [
  {
   "cell_type": "code",
   "execution_count": 5,
   "metadata": {},
   "outputs": [],
   "source": [
    "from constants import train_trials\n",
    "from functions import load_data, run_trial"
   ]
  },
  {
   "cell_type": "code",
   "execution_count": 6,
   "metadata": {},
   "outputs": [],
   "source": [
    "dfs = load_data(tcks=(\"AAPL\", \"DELL\", \"FORD\", \"IBM\", \"MACYS\", \"SP500\"))"
   ]
  },
  {
   "cell_type": "code",
   "execution_count": 3,
   "metadata": {},
   "outputs": [
    {
     "name": "stdout",
     "output_type": "stream",
     "text": [
      "Training HMM on train period ('2003-02-10', '2004-09-10')\n",
      "Training Complete\n",
      "Generating Predictions for test period ('2004-09-13', '2005-01-21')\n"
     ]
    },
    {
     "name": "stderr",
     "output_type": "stream",
     "text": [
      "100%|██████████| 92/92 [01:11<00:00,  1.29it/s]\n"
     ]
    },
    {
     "name": "stdout",
     "output_type": "stream",
     "text": [
      "Predictions Generated\n",
      "AAPL trial with latent states = 4, context window size = 10\n",
      "MAPE = 0.01556451275223328, DPA = 0.5652173913043478\n",
      "--------------------------------------------------------------------------------\n",
      "Training HMM on train period ('2003-02-10', '2004-09-10')\n",
      "Training Complete\n",
      "Generating Predictions for test period ('2004-10-13', '2005-01-21')\n"
     ]
    },
    {
     "name": "stderr",
     "output_type": "stream",
     "text": [
      "100%|██████████| 70/70 [00:53<00:00,  1.31it/s]\n"
     ]
    },
    {
     "name": "stdout",
     "output_type": "stream",
     "text": [
      "Predictions Generated\n",
      "AAPL trial with latent states = 4, context window size = 10\n",
      "MAPE = 0.015598935045108387, DPA = 0.6142857142857143\n",
      "--------------------------------------------------------------------------------\n",
      "Training HMM on train period ('2021-01-04', '2022-01-03')\n",
      "Training Complete\n",
      "Generating Predictions for test period ('2023-01-03', '2023-06-30')\n"
     ]
    },
    {
     "name": "stderr",
     "output_type": "stream",
     "text": [
      "100%|██████████| 124/124 [01:36<00:00,  1.29it/s]\n"
     ]
    },
    {
     "name": "stdout",
     "output_type": "stream",
     "text": [
      "Predictions Generated\n",
      "AAPL trial with latent states = 4, context window size = 10\n",
      "MAPE = 0.009893985310077668, DPA = 0.6612903225806451\n",
      "--------------------------------------------------------------------------------\n",
      "Training HMM on train period ('2017-01-03', '2019-01-03')\n",
      "Training Complete\n",
      "Generating Predictions for test period ('2023-01-03', '2023-06-30')\n"
     ]
    },
    {
     "name": "stderr",
     "output_type": "stream",
     "text": [
      "100%|██████████| 124/124 [01:36<00:00,  1.29it/s]\n"
     ]
    },
    {
     "name": "stdout",
     "output_type": "stream",
     "text": [
      "Predictions Generated\n",
      "AAPL trial with latent states = 4, context window size = 10\n",
      "MAPE = 0.009470522949150108, DPA = 0.3467741935483871\n",
      "--------------------------------------------------------------------------------\n",
      "Training HMM on train period ('2003-02-10', '2004-09-10')\n",
      "Training Complete\n",
      "Generating Predictions for test period ('2004-10-13', '2005-01-21')\n"
     ]
    },
    {
     "name": "stderr",
     "output_type": "stream",
     "text": [
      "100%|██████████| 70/70 [00:54<00:00,  1.29it/s]\n"
     ]
    },
    {
     "name": "stdout",
     "output_type": "stream",
     "text": [
      "Predictions Generated\n",
      "IBM trial with latent states = 4, context window size = 10\n",
      "MAPE = 0.013608814064466535, DPA = 0.34285714285714286\n",
      "--------------------------------------------------------------------------------\n",
      "Training HMM on train period ('2003-02-10', '2004-09-10')\n",
      "Training Complete\n",
      "Generating Predictions for test period ('2004-09-13', '2005-01-21')\n"
     ]
    },
    {
     "name": "stderr",
     "output_type": "stream",
     "text": [
      "100%|██████████| 92/92 [01:11<00:00,  1.29it/s]\n"
     ]
    },
    {
     "name": "stdout",
     "output_type": "stream",
     "text": [
      "Predictions Generated\n",
      "IBM trial with latent states = 4, context window size = 10\n",
      "MAPE = 0.012885398684269076, DPA = 0.3695652173913043\n",
      "--------------------------------------------------------------------------------\n",
      "Training HMM on train period ('2021-01-04', '2023-01-03')\n",
      "Training Complete\n",
      "Generating Predictions for test period ('2023-01-04', '2023-07-11')\n"
     ]
    },
    {
     "name": "stderr",
     "output_type": "stream",
     "text": [
      "100%|██████████| 129/129 [01:39<00:00,  1.30it/s]\n"
     ]
    },
    {
     "name": "stdout",
     "output_type": "stream",
     "text": [
      "Predictions Generated\n",
      "IBM trial with latent states = 4, context window size = 10\n",
      "MAPE = 0.008041129874531263, DPA = 0.46511627906976744\n",
      "--------------------------------------------------------------------------------\n",
      "Training HMM on train period ('2021-01-04', '2022-01-03')\n",
      "Training Complete\n",
      "Generating Predictions for test period ('2023-01-03', '2023-07-11')\n"
     ]
    },
    {
     "name": "stderr",
     "output_type": "stream",
     "text": [
      "100%|██████████| 130/130 [01:38<00:00,  1.31it/s]"
     ]
    },
    {
     "name": "stdout",
     "output_type": "stream",
     "text": [
      "Predictions Generated\n",
      "DELL trial with latent states = 4, context window size = 10\n",
      "MAPE = 0.01565943824254912, DPA = 0.6307692307692307\n",
      "--------------------------------------------------------------------------------\n"
     ]
    },
    {
     "name": "stderr",
     "output_type": "stream",
     "text": [
      "\n"
     ]
    }
   ],
   "source": [
    "# Replicate trials from the paper\n",
    "mapes = {}\n",
    "dpas = {}\n",
    "preds = {}\n",
    "\n",
    "# Paper constants (adjust as needed)\n",
    "latency = 10\n",
    "n_states = 4\n",
    "\n",
    "for tck, trials in train_trials.items():\n",
    "    mapes[tck] = {}\n",
    "    dpas[tck] = {}\n",
    "    for i, trial in trials.items():\n",
    "        # TODO: Write predictions to CSV file\n",
    "        results, _ = run_trial(\n",
    "            dfs,\n",
    "            tck=tck, train_period=trial[\"train\"], test_period=trial[\"test\"],\n",
    "            latency=latency, n_states=n_states\n",
    "        )\n",
    "        mapes[tck][i] = results[\"MAPE\"]\n",
    "        dpas[tck][i] = results[\"DPA\"]"
   ]
  },
  {
   "cell_type": "code",
   "execution_count": null,
   "metadata": {},
   "outputs": [],
   "source": [
    "# Experiment 1 - Robustness check on number of latent states\n",
    "\n",
    "tck = \"AAPL\" # Ticker label (or the prefix of the CSV)\n",
    "train_period = (\"2003-02-10\", \"2004-09-10\") # Training Period\n",
    "test_period = (\"2004-09-13\", \"2005-01-21\") # Testing Period\n",
    "latency = 10\n",
    "n_states = [3, 4, 5, 6]\n",
    "\n",
    "mapes = {}\n",
    "dpas = {}\n",
    "\n",
    "for n in n_states:\n",
    "    results, _ = run_trial(\n",
    "        dfs, tck, train_period, test_period, latency=latency, n_states=n\n",
    "    )\n",
    "    mapes[n] = results[\"MAPE\"]\n",
    "    dpas[n] = results[\"DPA\"]"
   ]
  },
  {
   "cell_type": "code",
   "execution_count": null,
   "metadata": {},
   "outputs": [],
   "source": [
    "# Experiment 2 - Robustness check on context window size\n",
    "\n",
    "tck = \"AAPL\" # Ticker label (or the prefix of the CSV)\n",
    "train_period = (\"2003-02-10\", \"2004-09-10\") # Training Period\n",
    "test_period = (\"2004-09-13\", \"2005-01-21\") # Testing Period\n",
    "latency = [6, 10, 20, 50]\n",
    "n_states = 4\n",
    "\n",
    "mapes = {}\n",
    "dpas = {}\n",
    "\n",
    "for l in latency:\n",
    "    results, _ = run_trial(\n",
    "        dfs, tck, train_period, test_period, latency=l, n_states=n_states\n",
    "    )\n",
    "    mapes[l] = results[\"MAPE\"]\n",
    "    dpas[l] = results[\"DPA\"]"
   ]
  },
  {
   "cell_type": "code",
   "execution_count": 7,
   "metadata": {},
   "outputs": [
    {
     "name": "stdout",
     "output_type": "stream",
     "text": [
      "Training HMM on train period ('2003-02-10', '2004-09-10')\n",
      "Training Complete\n",
      "Generating Predictions for test period ('2004-09-13', '2005-01-21')\n"
     ]
    },
    {
     "name": "stderr",
     "output_type": "stream",
     "text": [
      "100%|██████████| 92/92 [00:00<00:00, 2097152.00it/s]\n"
     ]
    },
    {
     "name": "stdout",
     "output_type": "stream",
     "text": [
      "Predictions Generated\n",
      "FORD trial with latent states = 4, context window size = 10\n",
      "MAPE = 0.019786732330045825, DPA = 0.45652173913043476\n",
      "--------------------------------------------------------------------------------\n",
      "Training HMM on train period ('2003-02-10', '2004-09-10')\n",
      "Training Complete\n",
      "Generating Predictions for test period ('2004-09-13', '2005-01-21')\n"
     ]
    },
    {
     "name": "stderr",
     "output_type": "stream",
     "text": [
      "100%|██████████| 92/92 [00:00<00:00, 2489522.37it/s]\n"
     ]
    },
    {
     "name": "stdout",
     "output_type": "stream",
     "text": [
      "Predictions Generated\n",
      "MACYS trial with latent states = 4, context window size = 10\n",
      "MAPE = 0.019642259760057762, DPA = 0.41304347826086957\n",
      "--------------------------------------------------------------------------------\n",
      "Training HMM on train period ('2003-02-10', '2004-09-10')\n",
      "Training Complete\n",
      "Generating Predictions for test period ('2004-09-13', '2005-01-21')\n"
     ]
    },
    {
     "name": "stderr",
     "output_type": "stream",
     "text": [
      "100%|██████████| 92/92 [00:00<00:00, 2489522.37it/s]\n"
     ]
    },
    {
     "name": "stdout",
     "output_type": "stream",
     "text": [
      "Predictions Generated\n",
      "SP500 trial with latent states = 4, context window size = 10\n",
      "MAPE = 0.005537558683297186, DPA = 0.45652173913043476\n",
      "--------------------------------------------------------------------------------\n"
     ]
    }
   ],
   "source": [
    "# Experiment 3 - Generalizability test on different stocks at same time period\n",
    "\n",
    "tcks = [\"FORD\", \"MACYS\", \"SP500\"] # Ticker label (or the prefix of the CSV)\n",
    "train_period = (\"2003-02-10\", \"2004-09-10\") # Training Period\n",
    "test_period = (\"2004-09-13\", \"2005-01-21\") # Testing Period\n",
    "latency = 10\n",
    "n_states = 4\n",
    "\n",
    "for tck in tcks:\n",
    "    run_trial(\n",
    "        dfs, tck, train_period, test_period, latency=latency, n_states=n_states\n",
    "    )"
   ]
  },
  {
   "cell_type": "code",
   "execution_count": 8,
   "metadata": {},
   "outputs": [
    {
     "name": "stdout",
     "output_type": "stream",
     "text": [
      "Training HMM on train period ('2005-02-10', '2005-09-09')\n",
      "Training Complete\n",
      "Generating Predictions for test period ('2005-09-12', '2006-01-20')\n"
     ]
    },
    {
     "name": "stderr",
     "output_type": "stream",
     "text": [
      "100%|██████████| 91/91 [00:00<00:00, 2108738.48it/s]\n"
     ]
    },
    {
     "name": "stdout",
     "output_type": "stream",
     "text": [
      "Predictions Generated\n",
      "AAPL trial with latent states = 4, context window size = 10\n",
      "MAPE = 0.0156514928163111, DPA = 0.4725274725274725\n",
      "--------------------------------------------------------------------------------\n",
      "Training HMM on train period ('2011-02-10', '2011-09-12')\n"
     ]
    },
    {
     "name": "stderr",
     "output_type": "stream",
     "text": [
      "/opt/miniconda3/envs/py311/lib/python3.11/site-packages/sklearn/base.py:1474: ConvergenceWarning: Number of distinct clusters (2) found smaller than n_clusters (4). Possibly due to duplicate points in X.\n",
      "  return fit_method(estimator, *args, **kwargs)\n",
      "/opt/miniconda3/envs/py311/lib/python3.11/site-packages/hmmlearn/hmm.py:809: RuntimeWarning: invalid value encountered in divide\n",
      "  self.covars_ = c_n / c_d + self.min_covar\n"
     ]
    },
    {
     "name": "stdout",
     "output_type": "stream",
     "text": [
      "Training Complete\n",
      "Generating Predictions for test period ('2011-09-13', '2012-01-23')\n"
     ]
    },
    {
     "ename": "ValueError",
     "evalue": "startprob_ must sum to 1 (got nan)",
     "output_type": "error",
     "traceback": [
      "\u001b[0;31m---------------------------------------------------------------------------\u001b[0m",
      "\u001b[0;31m_RemoteTraceback\u001b[0m                          Traceback (most recent call last)",
      "\u001b[0;31m_RemoteTraceback\u001b[0m: \n\"\"\"\nTraceback (most recent call last):\n  File \"/opt/miniconda3/envs/py311/lib/python3.11/concurrent/futures/process.py\", line 261, in _process_worker\n    r = call_item.fn(*call_item.args, **call_item.kwargs)\n        ^^^^^^^^^^^^^^^^^^^^^^^^^^^^^^^^^^^^^^^^^^^^^^^^^\n  File \"/opt/miniconda3/envs/py311/lib/python3.11/concurrent/futures/process.py\", line 210, in _process_chunk\n    return [fn(*args) for args in chunk]\n           ^^^^^^^^^^^^^^^^^^^^^^^^^^^^^\n  File \"/opt/miniconda3/envs/py311/lib/python3.11/concurrent/futures/process.py\", line 210, in <listcomp>\n    return [fn(*args) for args in chunk]\n            ^^^^^^^^^\n  File \"/Users/spencersiegel/Documents/Stanford/Winter 2024/Stats 217/stock-market-hidden-markov-models/code/functions.py\", line 124, in process_x_hmm\n    score = hmm_model.score(np.concatenate((x_hmm, np.array([n_i]))).reshape(-1, 1))\n            ^^^^^^^^^^^^^^^^^^^^^^^^^^^^^^^^^^^^^^^^^^^^^^^^^^^^^^^^^^^^^^^^^^^^^^^^\n  File \"/opt/miniconda3/envs/py311/lib/python3.11/site-packages/hmmlearn/base.py\", line 232, in score\n    return self._score(X, lengths, compute_posteriors=False)[0]\n           ^^^^^^^^^^^^^^^^^^^^^^^^^^^^^^^^^^^^^^^^^^^^^^^^^\n  File \"/opt/miniconda3/envs/py311/lib/python3.11/site-packages/hmmlearn/base.py\", line 243, in _score\n    self._check()\n  File \"/opt/miniconda3/envs/py311/lib/python3.11/site-packages/hmmlearn/hmm.py\", line 651, in _check\n    super()._check()\n  File \"/opt/miniconda3/envs/py311/lib/python3.11/site-packages/hmmlearn/base.py\", line 971, in _check\n    self._check_sum_1(\"startprob_\")\n  File \"/opt/miniconda3/envs/py311/lib/python3.11/site-packages/hmmlearn/base.py\", line 951, in _check_sum_1\n    raise ValueError(\nValueError: startprob_ must sum to 1 (got nan)\n\"\"\"",
      "\nThe above exception was the direct cause of the following exception:\n",
      "\u001b[0;31mValueError\u001b[0m                                Traceback (most recent call last)",
      "Cell \u001b[0;32mIn[8], line 16\u001b[0m\n\u001b[1;32m     14\u001b[0m train_period \u001b[38;5;241m=\u001b[39m train_periods[i]\n\u001b[1;32m     15\u001b[0m test_period \u001b[38;5;241m=\u001b[39m test_periods[i]\n\u001b[0;32m---> 16\u001b[0m \u001b[43mrun_trial\u001b[49m\u001b[43m(\u001b[49m\n\u001b[1;32m     17\u001b[0m \u001b[43m    \u001b[49m\u001b[43mdfs\u001b[49m\u001b[43m,\u001b[49m\u001b[43m \u001b[49m\u001b[43mtck\u001b[49m\u001b[43m,\u001b[49m\u001b[43m \u001b[49m\u001b[43mtrain_period\u001b[49m\u001b[43m,\u001b[49m\u001b[43m \u001b[49m\u001b[43mtest_period\u001b[49m\u001b[43m,\u001b[49m\u001b[43m \u001b[49m\u001b[43mlatency\u001b[49m\u001b[38;5;241;43m=\u001b[39;49m\u001b[43mlatency\u001b[49m\u001b[43m,\u001b[49m\u001b[43m \u001b[49m\u001b[43mn_states\u001b[49m\u001b[38;5;241;43m=\u001b[39;49m\u001b[43mn_states\u001b[49m\n\u001b[1;32m     18\u001b[0m \u001b[43m\u001b[49m\u001b[43m)\u001b[49m\n",
      "File \u001b[0;32m~/Documents/Stanford/Winter 2024/Stats 217/stock-market-hidden-markov-models/code/functions.py:208\u001b[0m, in \u001b[0;36mrun_trial\u001b[0;34m(dfs, tck, train_period, test_period, latency, n_states)\u001b[0m\n\u001b[1;32m    205\u001b[0m \u001b[38;5;28mprint\u001b[39m(\u001b[38;5;124m\"\u001b[39m\u001b[38;5;124mTraining Complete\u001b[39m\u001b[38;5;124m\"\u001b[39m)\n\u001b[1;32m    207\u001b[0m \u001b[38;5;28mprint\u001b[39m(\u001b[38;5;124mf\u001b[39m\u001b[38;5;124m\"\u001b[39m\u001b[38;5;124mGenerating Predictions for test period \u001b[39m\u001b[38;5;132;01m{\u001b[39;00mtest_period\u001b[38;5;132;01m}\u001b[39;00m\u001b[38;5;124m\"\u001b[39m)\n\u001b[0;32m--> 208\u001b[0m s_test, c_test, p_test \u001b[38;5;241m=\u001b[39m \u001b[43mpredict_hmm\u001b[49m\u001b[43m(\u001b[49m\n\u001b[1;32m    209\u001b[0m \u001b[43m    \u001b[49m\u001b[43mdf\u001b[49m\u001b[43m,\u001b[49m\n\u001b[1;32m    210\u001b[0m \u001b[43m    \u001b[49m\u001b[43mstart_date\u001b[49m\u001b[38;5;241;43m=\u001b[39;49m\u001b[43mstart_test\u001b[49m\u001b[43m,\u001b[49m\n\u001b[1;32m    211\u001b[0m \u001b[43m    \u001b[49m\u001b[43mend_date\u001b[49m\u001b[38;5;241;43m=\u001b[39;49m\u001b[43mend_test\u001b[49m\u001b[43m,\u001b[49m\n\u001b[1;32m    212\u001b[0m \u001b[43m    \u001b[49m\u001b[43mhmm_model\u001b[49m\u001b[38;5;241;43m=\u001b[39;49m\u001b[43mhmm_model\u001b[49m\u001b[43m,\u001b[49m\n\u001b[1;32m    213\u001b[0m \u001b[43m    \u001b[49m\u001b[43mfrac_change\u001b[49m\u001b[38;5;241;43m=\u001b[39;49m\u001b[43mtrain_fracs\u001b[49m\u001b[43m[\u001b[49m\u001b[38;5;241;43m0\u001b[39;49m\u001b[43m]\u001b[49m\u001b[43m,\u001b[49m\n\u001b[1;32m    214\u001b[0m \u001b[43m    \u001b[49m\u001b[43medges\u001b[49m\u001b[38;5;241;43m=\u001b[39;49m\u001b[43mtrain_edges\u001b[49m\u001b[43m,\u001b[49m\n\u001b[1;32m    215\u001b[0m \u001b[43m    \u001b[49m\u001b[43mx_max\u001b[49m\u001b[38;5;241;43m=\u001b[39;49m\u001b[43mx_max\u001b[49m\u001b[43m,\u001b[49m\n\u001b[1;32m    216\u001b[0m \u001b[43m    \u001b[49m\u001b[43my_max\u001b[49m\u001b[38;5;241;43m=\u001b[39;49m\u001b[43my_max\u001b[49m\u001b[43m,\u001b[49m\n\u001b[1;32m    217\u001b[0m \u001b[43m    \u001b[49m\u001b[43mlatency\u001b[49m\u001b[38;5;241;43m=\u001b[39;49m\u001b[43mlatency\u001b[49m\u001b[43m,\u001b[49m\n\u001b[1;32m    218\u001b[0m \u001b[43m\u001b[49m\u001b[43m)\u001b[49m\n\u001b[1;32m    219\u001b[0m \u001b[38;5;28mprint\u001b[39m(\u001b[38;5;124m\"\u001b[39m\u001b[38;5;124mPredictions Generated\u001b[39m\u001b[38;5;124m\"\u001b[39m)\n\u001b[1;32m    221\u001b[0m \u001b[38;5;66;03m# TODO: Write predictions to CSV file\u001b[39;00m\n",
      "File \u001b[0;32m~/Documents/Stanford/Winter 2024/Stats 217/stock-market-hidden-markov-models/code/functions.py:153\u001b[0m, in \u001b[0;36mpredict_hmm\u001b[0;34m(df, start_date, end_date, hmm_model, frac_change, edges, x_max, y_max, latency, include_buffer)\u001b[0m\n\u001b[1;32m    151\u001b[0m best_xs \u001b[38;5;241m=\u001b[39m []\n\u001b[1;32m    152\u001b[0m \u001b[38;5;28;01mwith\u001b[39;00m ProcessPoolExecutor() \u001b[38;5;28;01mas\u001b[39;00m executor:\n\u001b[0;32m--> 153\u001b[0m     futures \u001b[38;5;241m=\u001b[39m \u001b[38;5;28mlist\u001b[39m(executor\u001b[38;5;241m.\u001b[39mmap(process_x_hmm, tasks))\n\u001b[1;32m    154\u001b[0m     \u001b[38;5;28;01mfor\u001b[39;00m future \u001b[38;5;129;01min\u001b[39;00m tqdm(futures):\n\u001b[1;32m    155\u001b[0m         best_xs\u001b[38;5;241m.\u001b[39mappend(future)\n",
      "File \u001b[0;32m/opt/miniconda3/envs/py311/lib/python3.11/concurrent/futures/process.py:620\u001b[0m, in \u001b[0;36m_chain_from_iterable_of_lists\u001b[0;34m(iterable)\u001b[0m\n\u001b[1;32m    614\u001b[0m \u001b[38;5;28;01mdef\u001b[39;00m \u001b[38;5;21m_chain_from_iterable_of_lists\u001b[39m(iterable):\n\u001b[1;32m    615\u001b[0m \u001b[38;5;250m    \u001b[39m\u001b[38;5;124;03m\"\"\"\u001b[39;00m\n\u001b[1;32m    616\u001b[0m \u001b[38;5;124;03m    Specialized implementation of itertools.chain.from_iterable.\u001b[39;00m\n\u001b[1;32m    617\u001b[0m \u001b[38;5;124;03m    Each item in *iterable* should be a list.  This function is\u001b[39;00m\n\u001b[1;32m    618\u001b[0m \u001b[38;5;124;03m    careful not to keep references to yielded objects.\u001b[39;00m\n\u001b[1;32m    619\u001b[0m \u001b[38;5;124;03m    \"\"\"\u001b[39;00m\n\u001b[0;32m--> 620\u001b[0m \u001b[43m    \u001b[49m\u001b[38;5;28;43;01mfor\u001b[39;49;00m\u001b[43m \u001b[49m\u001b[43melement\u001b[49m\u001b[43m \u001b[49m\u001b[38;5;129;43;01min\u001b[39;49;00m\u001b[43m \u001b[49m\u001b[43miterable\u001b[49m\u001b[43m:\u001b[49m\n\u001b[1;32m    621\u001b[0m \u001b[43m        \u001b[49m\u001b[43melement\u001b[49m\u001b[38;5;241;43m.\u001b[39;49m\u001b[43mreverse\u001b[49m\u001b[43m(\u001b[49m\u001b[43m)\u001b[49m\n\u001b[1;32m    622\u001b[0m \u001b[43m        \u001b[49m\u001b[38;5;28;43;01mwhile\u001b[39;49;00m\u001b[43m \u001b[49m\u001b[43melement\u001b[49m\u001b[43m:\u001b[49m\n",
      "File \u001b[0;32m/opt/miniconda3/envs/py311/lib/python3.11/concurrent/futures/_base.py:619\u001b[0m, in \u001b[0;36mExecutor.map.<locals>.result_iterator\u001b[0;34m()\u001b[0m\n\u001b[1;32m    616\u001b[0m \u001b[38;5;28;01mwhile\u001b[39;00m fs:\n\u001b[1;32m    617\u001b[0m     \u001b[38;5;66;03m# Careful not to keep a reference to the popped future\u001b[39;00m\n\u001b[1;32m    618\u001b[0m     \u001b[38;5;28;01mif\u001b[39;00m timeout \u001b[38;5;129;01mis\u001b[39;00m \u001b[38;5;28;01mNone\u001b[39;00m:\n\u001b[0;32m--> 619\u001b[0m         \u001b[38;5;28;01myield\u001b[39;00m \u001b[43m_result_or_cancel\u001b[49m\u001b[43m(\u001b[49m\u001b[43mfs\u001b[49m\u001b[38;5;241;43m.\u001b[39;49m\u001b[43mpop\u001b[49m\u001b[43m(\u001b[49m\u001b[43m)\u001b[49m\u001b[43m)\u001b[49m\n\u001b[1;32m    620\u001b[0m     \u001b[38;5;28;01melse\u001b[39;00m:\n\u001b[1;32m    621\u001b[0m         \u001b[38;5;28;01myield\u001b[39;00m _result_or_cancel(fs\u001b[38;5;241m.\u001b[39mpop(), end_time \u001b[38;5;241m-\u001b[39m time\u001b[38;5;241m.\u001b[39mmonotonic())\n",
      "File \u001b[0;32m/opt/miniconda3/envs/py311/lib/python3.11/concurrent/futures/_base.py:317\u001b[0m, in \u001b[0;36m_result_or_cancel\u001b[0;34m(***failed resolving arguments***)\u001b[0m\n\u001b[1;32m    315\u001b[0m \u001b[38;5;28;01mtry\u001b[39;00m:\n\u001b[1;32m    316\u001b[0m     \u001b[38;5;28;01mtry\u001b[39;00m:\n\u001b[0;32m--> 317\u001b[0m         \u001b[38;5;28;01mreturn\u001b[39;00m \u001b[43mfut\u001b[49m\u001b[38;5;241;43m.\u001b[39;49m\u001b[43mresult\u001b[49m\u001b[43m(\u001b[49m\u001b[43mtimeout\u001b[49m\u001b[43m)\u001b[49m\n\u001b[1;32m    318\u001b[0m     \u001b[38;5;28;01mfinally\u001b[39;00m:\n\u001b[1;32m    319\u001b[0m         fut\u001b[38;5;241m.\u001b[39mcancel()\n",
      "File \u001b[0;32m/opt/miniconda3/envs/py311/lib/python3.11/concurrent/futures/_base.py:456\u001b[0m, in \u001b[0;36mFuture.result\u001b[0;34m(self, timeout)\u001b[0m\n\u001b[1;32m    454\u001b[0m     \u001b[38;5;28;01mraise\u001b[39;00m CancelledError()\n\u001b[1;32m    455\u001b[0m \u001b[38;5;28;01melif\u001b[39;00m \u001b[38;5;28mself\u001b[39m\u001b[38;5;241m.\u001b[39m_state \u001b[38;5;241m==\u001b[39m FINISHED:\n\u001b[0;32m--> 456\u001b[0m     \u001b[38;5;28;01mreturn\u001b[39;00m \u001b[38;5;28;43mself\u001b[39;49m\u001b[38;5;241;43m.\u001b[39;49m\u001b[43m__get_result\u001b[49m\u001b[43m(\u001b[49m\u001b[43m)\u001b[49m\n\u001b[1;32m    457\u001b[0m \u001b[38;5;28;01melse\u001b[39;00m:\n\u001b[1;32m    458\u001b[0m     \u001b[38;5;28;01mraise\u001b[39;00m \u001b[38;5;167;01mTimeoutError\u001b[39;00m()\n",
      "File \u001b[0;32m/opt/miniconda3/envs/py311/lib/python3.11/concurrent/futures/_base.py:401\u001b[0m, in \u001b[0;36mFuture.__get_result\u001b[0;34m(self)\u001b[0m\n\u001b[1;32m    399\u001b[0m \u001b[38;5;28;01mif\u001b[39;00m \u001b[38;5;28mself\u001b[39m\u001b[38;5;241m.\u001b[39m_exception:\n\u001b[1;32m    400\u001b[0m     \u001b[38;5;28;01mtry\u001b[39;00m:\n\u001b[0;32m--> 401\u001b[0m         \u001b[38;5;28;01mraise\u001b[39;00m \u001b[38;5;28mself\u001b[39m\u001b[38;5;241m.\u001b[39m_exception\n\u001b[1;32m    402\u001b[0m     \u001b[38;5;28;01mfinally\u001b[39;00m:\n\u001b[1;32m    403\u001b[0m         \u001b[38;5;66;03m# Break a reference cycle with the exception in self._exception\u001b[39;00m\n\u001b[1;32m    404\u001b[0m         \u001b[38;5;28mself\u001b[39m \u001b[38;5;241m=\u001b[39m \u001b[38;5;28;01mNone\u001b[39;00m\n",
      "\u001b[0;31mValueError\u001b[0m: startprob_ must sum to 1 (got nan)"
     ]
    }
   ],
   "source": [
    "# Experiment 4 - Generalizability test of same stock at different time periods\n",
    "\n",
    "tck = \"AAPL\" # Ticker label (or the prefix of the CSV)\n",
    "train_periods = [(\"2005-02-10\", \"2005-09-09\"), \n",
    "                 (\"2011-02-10\", \"2011-09-12\"),\n",
    "                 (\"2015-02-10\", \"2015-09-10\")] \n",
    "test_periods = [(\"2005-09-12\", \"2006-01-20\"), \n",
    "                (\"2011-09-13\", \"2012-01-23\"),\n",
    "                (\"2015-09-14\", \"2016-01-21\")] \n",
    "latency = 10\n",
    "n_states = 4\n",
    "\n",
    "for i in range(len(train_periods)):\n",
    "    train_period = train_periods[i]\n",
    "    test_period = test_periods[i]\n",
    "    run_trial(\n",
    "        dfs, tck, train_period, test_period, latency=latency, n_states=n_states\n",
    "    )"
   ]
  }
 ],
 "metadata": {
  "kernelspec": {
   "display_name": "Python 3",
   "language": "python",
   "name": "python3"
  },
  "language_info": {
   "codemirror_mode": {
    "name": "ipython",
    "version": 3
   },
   "file_extension": ".py",
   "mimetype": "text/x-python",
   "name": "python",
   "nbconvert_exporter": "python",
   "pygments_lexer": "ipython3",
   "version": "3.11.8"
  }
 },
 "nbformat": 4,
 "nbformat_minor": 2
}
