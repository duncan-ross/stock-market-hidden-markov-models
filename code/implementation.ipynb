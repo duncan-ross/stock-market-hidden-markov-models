{
 "cells": [
  {
   "cell_type": "code",
   "execution_count": 1,
   "metadata": {},
   "outputs": [],
   "source": [
    "from constants import train_trials\n",
    "from functions import load_data, run_trial"
   ]
  },
  {
   "cell_type": "code",
   "execution_count": 2,
   "metadata": {},
   "outputs": [],
   "source": [
    "dfs = load_data(tcks=(\"AAPL\", \"DELL\", \"FORD\", \"IBM\", \"MACYS\", \"SP500\"))"
   ]
  },
  {
   "cell_type": "code",
   "execution_count": 3,
   "metadata": {},
   "outputs": [
    {
     "name": "stdout",
     "output_type": "stream",
     "text": [
      "Training HMM on train period ('2003-02-10', '2004-09-10')\n",
      "Training Complete\n",
      "Generating Predictions for test period ('2004-09-13', '2005-01-21')\n"
     ]
    },
    {
     "name": "stderr",
     "output_type": "stream",
     "text": [
      "100%|██████████| 92/92 [01:11<00:00,  1.29it/s]\n"
     ]
    },
    {
     "name": "stdout",
     "output_type": "stream",
     "text": [
      "Predictions Generated\n",
      "AAPL trial with latent states = 4, context window size = 10\n",
      "MAPE = 0.01556451275223328, DPA = 0.5652173913043478\n",
      "--------------------------------------------------------------------------------\n",
      "Training HMM on train period ('2003-02-10', '2004-09-10')\n",
      "Training Complete\n",
      "Generating Predictions for test period ('2004-10-13', '2005-01-21')\n"
     ]
    },
    {
     "name": "stderr",
     "output_type": "stream",
     "text": [
      "100%|██████████| 70/70 [00:53<00:00,  1.31it/s]\n"
     ]
    },
    {
     "name": "stdout",
     "output_type": "stream",
     "text": [
      "Predictions Generated\n",
      "AAPL trial with latent states = 4, context window size = 10\n",
      "MAPE = 0.015598935045108387, DPA = 0.6142857142857143\n",
      "--------------------------------------------------------------------------------\n",
      "Training HMM on train period ('2021-01-04', '2022-01-03')\n",
      "Training Complete\n",
      "Generating Predictions for test period ('2023-01-03', '2023-06-30')\n"
     ]
    },
    {
     "name": "stderr",
     "output_type": "stream",
     "text": [
      "100%|██████████| 124/124 [01:36<00:00,  1.29it/s]\n"
     ]
    },
    {
     "name": "stdout",
     "output_type": "stream",
     "text": [
      "Predictions Generated\n",
      "AAPL trial with latent states = 4, context window size = 10\n",
      "MAPE = 0.009893985310077668, DPA = 0.6612903225806451\n",
      "--------------------------------------------------------------------------------\n",
      "Training HMM on train period ('2017-01-03', '2019-01-03')\n",
      "Training Complete\n",
      "Generating Predictions for test period ('2023-01-03', '2023-06-30')\n"
     ]
    },
    {
     "name": "stderr",
     "output_type": "stream",
     "text": [
      "100%|██████████| 124/124 [01:36<00:00,  1.29it/s]\n"
     ]
    },
    {
     "name": "stdout",
     "output_type": "stream",
     "text": [
      "Predictions Generated\n",
      "AAPL trial with latent states = 4, context window size = 10\n",
      "MAPE = 0.009470522949150108, DPA = 0.3467741935483871\n",
      "--------------------------------------------------------------------------------\n",
      "Training HMM on train period ('2003-02-10', '2004-09-10')\n",
      "Training Complete\n",
      "Generating Predictions for test period ('2004-10-13', '2005-01-21')\n"
     ]
    },
    {
     "name": "stderr",
     "output_type": "stream",
     "text": [
      "100%|██████████| 70/70 [00:54<00:00,  1.29it/s]\n"
     ]
    },
    {
     "name": "stdout",
     "output_type": "stream",
     "text": [
      "Predictions Generated\n",
      "IBM trial with latent states = 4, context window size = 10\n",
      "MAPE = 0.013608814064466535, DPA = 0.34285714285714286\n",
      "--------------------------------------------------------------------------------\n",
      "Training HMM on train period ('2003-02-10', '2004-09-10')\n",
      "Training Complete\n",
      "Generating Predictions for test period ('2004-09-13', '2005-01-21')\n"
     ]
    },
    {
     "name": "stderr",
     "output_type": "stream",
     "text": [
      "100%|██████████| 92/92 [01:11<00:00,  1.29it/s]\n"
     ]
    },
    {
     "name": "stdout",
     "output_type": "stream",
     "text": [
      "Predictions Generated\n",
      "IBM trial with latent states = 4, context window size = 10\n",
      "MAPE = 0.012885398684269076, DPA = 0.3695652173913043\n",
      "--------------------------------------------------------------------------------\n",
      "Training HMM on train period ('2021-01-04', '2023-01-03')\n",
      "Training Complete\n",
      "Generating Predictions for test period ('2023-01-04', '2023-07-11')\n"
     ]
    },
    {
     "name": "stderr",
     "output_type": "stream",
     "text": [
      "100%|██████████| 129/129 [01:39<00:00,  1.30it/s]\n"
     ]
    },
    {
     "name": "stdout",
     "output_type": "stream",
     "text": [
      "Predictions Generated\n",
      "IBM trial with latent states = 4, context window size = 10\n",
      "MAPE = 0.008041129874531263, DPA = 0.46511627906976744\n",
      "--------------------------------------------------------------------------------\n",
      "Training HMM on train period ('2021-01-04', '2022-01-03')\n",
      "Training Complete\n",
      "Generating Predictions for test period ('2023-01-03', '2023-07-11')\n"
     ]
    },
    {
     "name": "stderr",
     "output_type": "stream",
     "text": [
      "100%|██████████| 130/130 [01:38<00:00,  1.31it/s]"
     ]
    },
    {
     "name": "stdout",
     "output_type": "stream",
     "text": [
      "Predictions Generated\n",
      "DELL trial with latent states = 4, context window size = 10\n",
      "MAPE = 0.01565943824254912, DPA = 0.6307692307692307\n",
      "--------------------------------------------------------------------------------\n"
     ]
    },
    {
     "name": "stderr",
     "output_type": "stream",
     "text": [
      "\n"
     ]
    }
   ],
   "source": [
    "# Replicate trials from the paper\n",
    "mapes = {}\n",
    "dpas = {}\n",
    "preds = {}\n",
    "\n",
    "# Paper constants (adjust as needed)\n",
    "latency = 10\n",
    "n_states = 4\n",
    "\n",
    "for tck, trials in train_trials.items():\n",
    "    mapes[tck] = {}\n",
    "    dpas[tck] = {}\n",
    "    for i, trial in trials.items():\n",
    "        # TODO: Write predictions to CSV file\n",
    "        results, _ = run_trial(\n",
    "            dfs,\n",
    "            tck=tck, train_period=trial[\"train\"], test_period=trial[\"test\"],\n",
    "            latency=latency, n_states=n_states\n",
    "        )\n",
    "        mapes[tck][i] = results[\"MAPE\"]\n",
    "        dpas[tck][i] = results[\"DPA\"]"
   ]
  },
  {
   "cell_type": "code",
   "execution_count": 4,
   "metadata": {},
   "outputs": [
    {
     "name": "stdout",
     "output_type": "stream",
     "text": [
      "Training HMM on train period ('2003-02-10', '2004-09-10')\n",
      "Training Complete\n",
      "Generating Predictions for test period ('2004-09-13', '2005-01-21')\n"
     ]
    },
    {
     "name": "stderr",
     "output_type": "stream",
     "text": [
      "100%|██████████| 92/92 [01:02<00:00,  1.47it/s]\n"
     ]
    },
    {
     "name": "stdout",
     "output_type": "stream",
     "text": [
      "Predictions Generated\n",
      "AAPL trial with latent states = 3, context window size = 10\n",
      "MAPE = 0.018032310975446626, DPA = 0.5217391304347826\n",
      "--------------------------------------------------------------------------------\n",
      "Training HMM on train period ('2003-02-10', '2004-09-10')\n",
      "Training Complete\n",
      "Generating Predictions for test period ('2004-09-13', '2005-01-21')\n"
     ]
    },
    {
     "name": "stderr",
     "output_type": "stream",
     "text": [
      "100%|██████████| 92/92 [01:11<00:00,  1.30it/s]\n"
     ]
    },
    {
     "name": "stdout",
     "output_type": "stream",
     "text": [
      "Predictions Generated\n",
      "AAPL trial with latent states = 4, context window size = 10\n",
      "MAPE = 0.01556451275223328, DPA = 0.5652173913043478\n",
      "--------------------------------------------------------------------------------\n",
      "Training HMM on train period ('2003-02-10', '2004-09-10')\n",
      "Training Complete\n",
      "Generating Predictions for test period ('2004-09-13', '2005-01-21')\n"
     ]
    },
    {
     "name": "stderr",
     "output_type": "stream",
     "text": [
      "100%|██████████| 92/92 [01:20<00:00,  1.15it/s]\n"
     ]
    },
    {
     "name": "stdout",
     "output_type": "stream",
     "text": [
      "Predictions Generated\n",
      "AAPL trial with latent states = 5, context window size = 10\n",
      "MAPE = 0.01556451275223328, DPA = 0.5652173913043478\n",
      "--------------------------------------------------------------------------------\n",
      "Training HMM on train period ('2003-02-10', '2004-09-10')\n",
      "Training Complete\n",
      "Generating Predictions for test period ('2004-09-13', '2005-01-21')\n"
     ]
    },
    {
     "name": "stderr",
     "output_type": "stream",
     "text": [
      "100%|██████████| 92/92 [01:28<00:00,  1.04it/s]\n"
     ]
    },
    {
     "name": "stdout",
     "output_type": "stream",
     "text": [
      "Predictions Generated\n",
      "AAPL trial with latent states = 6, context window size = 10\n",
      "MAPE = 0.01593297936221935, DPA = 0.4673913043478261\n",
      "--------------------------------------------------------------------------------\n",
      "Training HMM on train period ('2003-02-10', '2004-09-10')\n",
      "Training Complete\n",
      "Generating Predictions for test period ('2004-09-13', '2005-01-21')\n"
     ]
    },
    {
     "name": "stderr",
     "output_type": "stream",
     "text": [
      "100%|██████████| 92/92 [01:49<00:00,  1.19s/it]"
     ]
    },
    {
     "name": "stdout",
     "output_type": "stream",
     "text": [
      "Predictions Generated\n",
      "AAPL trial with latent states = 8, context window size = 10\n",
      "MAPE = 0.015605567468307492, DPA = 0.5434782608695652\n",
      "--------------------------------------------------------------------------------\n"
     ]
    },
    {
     "name": "stderr",
     "output_type": "stream",
     "text": [
      "\n"
     ]
    }
   ],
   "source": [
    "# Experiment 1 - Robustness check on number of latent states\n",
    "\n",
    "tck = \"AAPL\" # Ticker label (or the prefix of the CSV)\n",
    "train_period = (\"2003-02-10\", \"2004-09-10\") # Training Period\n",
    "test_period = (\"2004-09-13\", \"2005-01-21\") # Testing Period\n",
    "latency = 10\n",
    "n_states = [3, 4, 5, 6]\n",
    "\n",
    "mapes = {}\n",
    "dpas = {}\n",
    "\n",
    "for n in n_states:\n",
    "    results, _ = run_trial(\n",
    "        dfs, tck, train_period, test_period, latency=latency, n_states=n\n",
    "    )\n",
    "    mapes[n] = results[\"MAPE\"]\n",
    "    dpas[n] = results[\"DPA\"]"
   ]
  },
  {
   "cell_type": "code",
   "execution_count": 6,
   "metadata": {},
   "outputs": [
    {
     "name": "stdout",
     "output_type": "stream",
     "text": [
      "Training HMM on train period ('2003-02-10', '2004-09-10')\n",
      "Training Complete\n",
      "Generating Predictions for test period ('2004-09-13', '2005-01-21')\n"
     ]
    },
    {
     "name": "stderr",
     "output_type": "stream",
     "text": [
      "100%|██████████| 92/92 [01:13<00:00,  1.26it/s]\n"
     ]
    },
    {
     "name": "stdout",
     "output_type": "stream",
     "text": [
      "Predictions Generated\n",
      "AAPL trial with latent states = 4, context window size = 6\n",
      "MAPE = 0.020915574223608714, DPA = 0.5\n",
      "--------------------------------------------------------------------------------\n",
      "Training HMM on train period ('2003-02-10', '2004-09-10')\n",
      "Training Complete\n",
      "Generating Predictions for test period ('2004-09-13', '2005-01-21')\n"
     ]
    },
    {
     "name": "stderr",
     "output_type": "stream",
     "text": [
      "100%|██████████| 92/92 [01:11<00:00,  1.29it/s]\n"
     ]
    },
    {
     "name": "stdout",
     "output_type": "stream",
     "text": [
      "Predictions Generated\n",
      "AAPL trial with latent states = 4, context window size = 10\n",
      "MAPE = 0.01556451275223328, DPA = 0.5652173913043478\n",
      "--------------------------------------------------------------------------------\n",
      "Training HMM on train period ('2003-02-10', '2004-09-10')\n",
      "Training Complete\n",
      "Generating Predictions for test period ('2004-09-13', '2005-01-21')\n"
     ]
    },
    {
     "name": "stderr",
     "output_type": "stream",
     "text": [
      "100%|██████████| 92/92 [01:11<00:00,  1.28it/s]\n"
     ]
    },
    {
     "name": "stdout",
     "output_type": "stream",
     "text": [
      "Predictions Generated\n",
      "AAPL trial with latent states = 4, context window size = 20\n",
      "MAPE = 0.01952577901070566, DPA = 0.5217391304347826\n",
      "--------------------------------------------------------------------------------\n",
      "Training HMM on train period ('2003-02-10', '2004-09-10')\n",
      "Training Complete\n",
      "Generating Predictions for test period ('2004-09-13', '2005-01-21')\n"
     ]
    },
    {
     "name": "stderr",
     "output_type": "stream",
     "text": [
      "100%|██████████| 92/92 [01:14<00:00,  1.24it/s]"
     ]
    },
    {
     "name": "stdout",
     "output_type": "stream",
     "text": [
      "Predictions Generated\n",
      "AAPL trial with latent states = 4, context window size = 50\n",
      "MAPE = 0.03445693011519408, DPA = 0.4673913043478261\n",
      "--------------------------------------------------------------------------------\n"
     ]
    },
    {
     "name": "stderr",
     "output_type": "stream",
     "text": [
      "\n"
     ]
    }
   ],
   "source": [
    "# Experiment 2 - Robustness check on context window size\n",
    "\n",
    "tck = \"AAPL\" # Ticker label (or the prefix of the CSV)\n",
    "train_period = (\"2003-02-10\", \"2004-09-10\") # Training Period\n",
    "test_period = (\"2004-09-13\", \"2005-01-21\") # Testing Period\n",
    "latency = [6, 10, 20, 50]\n",
    "n_states = 4\n",
    "\n",
    "mapes = {}\n",
    "dpas = {}\n",
    "\n",
    "for l in latency:\n",
    "    results, _ = run_trial(\n",
    "        dfs, tck, train_period, test_period, latency=l, n_states=n_states\n",
    "    )\n",
    "    mapes[l] = results[\"MAPE\"]\n",
    "    dpas[l] = results[\"DPA\"]"
   ]
  },
  {
   "cell_type": "code",
   "execution_count": 8,
   "metadata": {},
   "outputs": [
    {
     "name": "stdout",
     "output_type": "stream",
     "text": [
      "Training HMM on train period ('2003-02-10', '2004-09-10')\n",
      "Training Complete\n",
      "Generating Predictions for test period ('2004-09-13', '2005-01-21')\n"
     ]
    },
    {
     "name": "stderr",
     "output_type": "stream",
     "text": [
      "100%|██████████| 92/92 [01:11<00:00,  1.30it/s]\n"
     ]
    },
    {
     "name": "stdout",
     "output_type": "stream",
     "text": [
      "Predictions Generated\n",
      "FORD trial with latent states = 4, context window size = 10\n",
      "MAPE = 0.03584903918457009, DPA = 0.5108695652173914\n",
      "--------------------------------------------------------------------------------\n",
      "Training HMM on train period ('2003-02-10', '2004-09-10')\n",
      "Training Complete\n",
      "Generating Predictions for test period ('2004-09-13', '2005-01-21')\n"
     ]
    },
    {
     "name": "stderr",
     "output_type": "stream",
     "text": [
      "100%|██████████| 92/92 [01:10<00:00,  1.30it/s]\n"
     ]
    },
    {
     "name": "stdout",
     "output_type": "stream",
     "text": [
      "Predictions Generated\n",
      "MACYS trial with latent states = 4, context window size = 10\n",
      "MAPE = 0.029976562673293575, DPA = 0.391304347826087\n",
      "--------------------------------------------------------------------------------\n",
      "Training HMM on train period ('2003-02-10', '2004-09-10')\n",
      "Training Complete\n",
      "Generating Predictions for test period ('2004-09-13', '2005-01-21')\n"
     ]
    },
    {
     "name": "stderr",
     "output_type": "stream",
     "text": [
      "100%|██████████| 92/92 [01:11<00:00,  1.29it/s]"
     ]
    },
    {
     "name": "stdout",
     "output_type": "stream",
     "text": [
      "Predictions Generated\n",
      "SP500 trial with latent states = 4, context window size = 10\n",
      "MAPE = 0.008623100119627356, DPA = 0.5217391304347826\n",
      "--------------------------------------------------------------------------------\n"
     ]
    },
    {
     "name": "stderr",
     "output_type": "stream",
     "text": [
      "\n"
     ]
    }
   ],
   "source": [
    "# Experiment 3 - Generalizability test on different stocks at same time period\n",
    "\n",
    "tcks = [\"FORD\", \"MACYS\", \"SP500\"] # Ticker label (or the prefix of the CSV)\n",
    "train_period = (\"2003-02-10\", \"2004-09-10\") # Training Period\n",
    "test_period = (\"2004-09-13\", \"2005-01-21\") # Testing Period\n",
    "latency = 10\n",
    "n_states = 4\n",
    "\n",
    "for tck in tcks:\n",
    "    run_trial(\n",
    "        dfs, tck, train_period, test_period, latency=latency, n_states=n_states\n",
    "    )"
   ]
  },
  {
   "cell_type": "code",
   "execution_count": 9,
   "metadata": {},
   "outputs": [
    {
     "name": "stdout",
     "output_type": "stream",
     "text": [
      "Training HMM on train period ('2005-02-10', '2005-09-09')\n",
      "Training Complete\n",
      "Generating Predictions for test period ('2005-09-12', '2006-01-20')\n"
     ]
    },
    {
     "name": "stderr",
     "output_type": "stream",
     "text": [
      "100%|██████████| 91/91 [01:10<00:00,  1.28it/s]\n"
     ]
    },
    {
     "name": "stdout",
     "output_type": "stream",
     "text": [
      "Predictions Generated\n",
      "AAPL trial with latent states = 4, context window size = 10\n",
      "MAPE = 0.022445434844356914, DPA = 0.5274725274725275\n",
      "--------------------------------------------------------------------------------\n",
      "Training HMM on train period ('2011-02-10', '2011-09-12')\n",
      "Training Complete\n",
      "Generating Predictions for test period ('2011-09-13', '2012-01-23')\n"
     ]
    },
    {
     "name": "stderr",
     "output_type": "stream",
     "text": [
      "100%|██████████| 91/91 [01:10<00:00,  1.30it/s]\n"
     ]
    },
    {
     "name": "stdout",
     "output_type": "stream",
     "text": [
      "Predictions Generated\n",
      "AAPL trial with latent states = 4, context window size = 10\n",
      "MAPE = 0.012103301994244824, DPA = 0.45054945054945056\n",
      "--------------------------------------------------------------------------------\n",
      "Training HMM on train period ('2015-02-10', '2015-09-10')\n",
      "Training Complete\n",
      "Generating Predictions for test period ('2015-09-14', '2016-01-21')\n"
     ]
    },
    {
     "name": "stderr",
     "output_type": "stream",
     "text": [
      "100%|██████████| 90/90 [01:08<00:00,  1.31it/s]"
     ]
    },
    {
     "name": "stdout",
     "output_type": "stream",
     "text": [
      "Predictions Generated\n",
      "AAPL trial with latent states = 4, context window size = 10\n",
      "MAPE = 0.01380784938530579, DPA = 0.5333333333333333\n",
      "--------------------------------------------------------------------------------\n"
     ]
    },
    {
     "name": "stderr",
     "output_type": "stream",
     "text": [
      "\n"
     ]
    }
   ],
   "source": [
    "# Experiment 4 - Generalizability test of same stock at different time periods\n",
    "\n",
    "tck = \"AAPL\" # Ticker label (or the prefix of the CSV)\n",
    "train_periods = [(\"2005-02-10\", \"2005-09-09\"), \n",
    "                 (\"2011-02-10\", \"2011-09-12\"),\n",
    "                 (\"2015-02-10\", \"2015-09-10\")] \n",
    "test_periods = [(\"2005-09-12\", \"2006-01-20\"), \n",
    "                (\"2011-09-13\", \"2012-01-23\"),\n",
    "                (\"2015-09-14\", \"2016-01-21\")] \n",
    "latency = 10\n",
    "n_states = 4\n",
    "\n",
    "for i in range(len(train_periods)):\n",
    "    train_period = train_periods[i]\n",
    "    test_period = test_periods[i]\n",
    "    run_trial(\n",
    "        dfs, tck, train_period, test_period, latency=latency, n_states=n_states\n",
    "    )"
   ]
  }
 ],
 "metadata": {
  "kernelspec": {
   "display_name": "Python 3",
   "language": "python",
   "name": "python3"
  },
  "language_info": {
   "codemirror_mode": {
    "name": "ipython",
    "version": 3
   },
   "file_extension": ".py",
   "mimetype": "text/x-python",
   "name": "python",
   "nbconvert_exporter": "python",
   "pygments_lexer": "ipython3",
   "version": "3.11.8"
  }
 },
 "nbformat": 4,
 "nbformat_minor": 2
}
