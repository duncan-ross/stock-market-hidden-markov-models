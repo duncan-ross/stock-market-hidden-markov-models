{
 "cells": [
  {
   "cell_type": "code",
   "execution_count": 1,
   "metadata": {},
   "outputs": [],
   "source": [
    "from constants import train_trials\n",
    "from functions import load_data, run_trial"
   ]
  },
  {
   "cell_type": "code",
   "execution_count": 2,
   "metadata": {},
   "outputs": [],
   "source": [
    "dfs = load_data(tcks=(\"AAPL\", \"DELL\", \"FORD\", \"IBM\", \"MACYS\", \"SP500\"))"
   ]
  },
  {
   "cell_type": "code",
   "execution_count": 3,
   "metadata": {},
   "outputs": [
    {
     "name": "stdout",
     "output_type": "stream",
     "text": [
      "Training HMM on train period ('2021-01-04', '2022-01-03')\n"
     ]
    },
    {
     "ename": "ValueError",
     "evalue": "zero-size array to reduction operation minimum which has no identity",
     "output_type": "error",
     "traceback": [
      "\u001b[0;31m---------------------------------------------------------------------------\u001b[0m",
      "\u001b[0;31mValueError\u001b[0m                                Traceback (most recent call last)",
      "Cell \u001b[0;32mIn[3], line 15\u001b[0m\n\u001b[1;32m     12\u001b[0m dpas[tck] \u001b[38;5;241m=\u001b[39m {}\n\u001b[1;32m     13\u001b[0m \u001b[38;5;28;01mfor\u001b[39;00m i, trial \u001b[38;5;129;01min\u001b[39;00m trials\u001b[38;5;241m.\u001b[39mitems():\n\u001b[1;32m     14\u001b[0m     \u001b[38;5;66;03m# TODO: Write predictions to CSV file\u001b[39;00m\n\u001b[0;32m---> 15\u001b[0m     results \u001b[38;5;241m=\u001b[39m \u001b[43mrun_trial\u001b[49m\u001b[43m(\u001b[49m\n\u001b[1;32m     16\u001b[0m \u001b[43m        \u001b[49m\u001b[43mdfs\u001b[49m\u001b[43m,\u001b[49m\n\u001b[1;32m     17\u001b[0m \u001b[43m        \u001b[49m\u001b[43mtck\u001b[49m\u001b[38;5;241;43m=\u001b[39;49m\u001b[43mtck\u001b[49m\u001b[43m,\u001b[49m\u001b[43m \u001b[49m\u001b[43mtrain_period\u001b[49m\u001b[38;5;241;43m=\u001b[39;49m\u001b[43mtrial\u001b[49m\u001b[43m[\u001b[49m\u001b[38;5;124;43m\"\u001b[39;49m\u001b[38;5;124;43mtrain\u001b[39;49m\u001b[38;5;124;43m\"\u001b[39;49m\u001b[43m]\u001b[49m\u001b[43m,\u001b[49m\u001b[43m \u001b[49m\u001b[43mtest_period\u001b[49m\u001b[38;5;241;43m=\u001b[39;49m\u001b[43mtrial\u001b[49m\u001b[43m[\u001b[49m\u001b[38;5;124;43m\"\u001b[39;49m\u001b[38;5;124;43mtest\u001b[39;49m\u001b[38;5;124;43m\"\u001b[39;49m\u001b[43m]\u001b[49m\u001b[43m,\u001b[49m\n\u001b[1;32m     18\u001b[0m \u001b[43m        \u001b[49m\u001b[43mlatency\u001b[49m\u001b[38;5;241;43m=\u001b[39;49m\u001b[43mlatency\u001b[49m\u001b[43m,\u001b[49m\u001b[43m \u001b[49m\u001b[43mn_states\u001b[49m\u001b[38;5;241;43m=\u001b[39;49m\u001b[43mn_states\u001b[49m\n\u001b[1;32m     19\u001b[0m \u001b[43m    \u001b[49m\u001b[43m)\u001b[49m\n\u001b[1;32m     20\u001b[0m     mapes[tck][i] \u001b[38;5;241m=\u001b[39m results[\u001b[38;5;124m\"\u001b[39m\u001b[38;5;124mMAPE\u001b[39m\u001b[38;5;124m\"\u001b[39m]\n\u001b[1;32m     21\u001b[0m     dpas[tck][i] \u001b[38;5;241m=\u001b[39m results[\u001b[38;5;124m\"\u001b[39m\u001b[38;5;124mDPA\u001b[39m\u001b[38;5;124m\"\u001b[39m]\n",
      "File \u001b[0;32m~/Documents/Joe_Documents/Stanford/STATS 217/stock-market-hidden-markov-models/code/functions.py:184\u001b[0m, in \u001b[0;36mrun_trial\u001b[0;34m(dfs, tck, train_period, test_period, latency, n_states)\u001b[0m\n\u001b[1;32m    181\u001b[0m start_test, end_test \u001b[38;5;241m=\u001b[39m test_period\n\u001b[1;32m    183\u001b[0m \u001b[38;5;28mprint\u001b[39m(\u001b[38;5;124mf\u001b[39m\u001b[38;5;124m\"\u001b[39m\u001b[38;5;124mTraining HMM on train period \u001b[39m\u001b[38;5;132;01m{\u001b[39;00mtrain_period\u001b[38;5;132;01m}\u001b[39;00m\u001b[38;5;124m\"\u001b[39m)\n\u001b[0;32m--> 184\u001b[0m hmm_model, (x_max, y_max), (train_fracs), train_edges \u001b[38;5;241m=\u001b[39m \u001b[43mtrain_hmm\u001b[49m\u001b[43m(\u001b[49m\n\u001b[1;32m    185\u001b[0m \u001b[43m    \u001b[49m\u001b[43mdf\u001b[49m\u001b[43m,\u001b[49m\n\u001b[1;32m    186\u001b[0m \u001b[43m    \u001b[49m\u001b[43mstart_date\u001b[49m\u001b[38;5;241;43m=\u001b[39;49m\u001b[43mstart_train\u001b[49m\u001b[43m,\u001b[49m\n\u001b[1;32m    187\u001b[0m \u001b[43m    \u001b[49m\u001b[43mend_date\u001b[49m\u001b[38;5;241;43m=\u001b[39;49m\u001b[43mend_train\u001b[49m\u001b[43m,\u001b[49m\n\u001b[1;32m    188\u001b[0m \u001b[43m    \u001b[49m\u001b[43mlatency\u001b[49m\u001b[38;5;241;43m=\u001b[39;49m\u001b[43mlatency\u001b[49m\u001b[43m,\u001b[49m\n\u001b[1;32m    189\u001b[0m \u001b[43m    \u001b[49m\u001b[43mn_states\u001b[49m\u001b[38;5;241;43m=\u001b[39;49m\u001b[43mn_states\u001b[49m\u001b[43m,\u001b[49m\n\u001b[1;32m    190\u001b[0m \u001b[43m\u001b[49m\u001b[43m)\u001b[49m\n\u001b[1;32m    191\u001b[0m \u001b[38;5;66;03m# print(\"Training Complete\")\u001b[39;00m\n\u001b[1;32m    193\u001b[0m \u001b[38;5;28mprint\u001b[39m(\u001b[38;5;124mf\u001b[39m\u001b[38;5;124m\"\u001b[39m\u001b[38;5;124mGenerating Predictions for test period \u001b[39m\u001b[38;5;132;01m{\u001b[39;00mtest_period\u001b[38;5;132;01m}\u001b[39;00m\u001b[38;5;124m\"\u001b[39m)\n",
      "File \u001b[0;32m~/Documents/Joe_Documents/Stanford/STATS 217/stock-market-hidden-markov-models/code/functions.py:97\u001b[0m, in \u001b[0;36mtrain_hmm\u001b[0;34m(df, start_date, end_date, latency, n_states, include_buffer)\u001b[0m\n\u001b[1;32m     95\u001b[0m \u001b[38;5;28;01mdef\u001b[39;00m \u001b[38;5;21mtrain_hmm\u001b[39m(df, start_date, end_date, latency\u001b[38;5;241m=\u001b[39m\u001b[38;5;241m10\u001b[39m, n_states\u001b[38;5;241m=\u001b[39m\u001b[38;5;241m4\u001b[39m, include_buffer\u001b[38;5;241m=\u001b[39m\u001b[38;5;28;01mTrue\u001b[39;00m):\n\u001b[1;32m     96\u001b[0m     train_df \u001b[38;5;241m=\u001b[39m get_data_subset(df, start_date, end_date, latency, include_buffer)\n\u001b[0;32m---> 97\u001b[0m     n, (x, y, _), fracs, edges \u001b[38;5;241m=\u001b[39m \u001b[43mget_3d_1d_obs\u001b[49m\u001b[43m(\u001b[49m\u001b[43mtrain_df\u001b[49m\u001b[43m)\u001b[49m\n\u001b[1;32m     98\u001b[0m     x_hmm \u001b[38;5;241m=\u001b[39m get_hmm_input(n, latency\u001b[38;5;241m=\u001b[39mlatency)\n\u001b[1;32m     99\u001b[0m     hmm_model \u001b[38;5;241m=\u001b[39m GMMHMM(\n\u001b[1;32m    100\u001b[0m         n_components\u001b[38;5;241m=\u001b[39mn_states, covariance_type\u001b[38;5;241m=\u001b[39m\u001b[38;5;124m\"\u001b[39m\u001b[38;5;124mdiag\u001b[39m\u001b[38;5;124m\"\u001b[39m, random_state\u001b[38;5;241m=\u001b[39m\u001b[38;5;241m217\u001b[39m, n_iter\u001b[38;5;241m=\u001b[39m\u001b[38;5;241m1000\u001b[39m\n\u001b[1;32m    101\u001b[0m     )\n",
      "File \u001b[0;32m~/Documents/Joe_Documents/Stanford/STATS 217/stock-market-hidden-markov-models/code/functions.py:59\u001b[0m, in \u001b[0;36mget_3d_1d_obs\u001b[0;34m(df, edges, x_max, y_max)\u001b[0m\n\u001b[1;32m     57\u001b[0m \u001b[38;5;28;01melse\u001b[39;00m:\n\u001b[1;32m     58\u001b[0m     change_edges, high_edges, low_edges \u001b[38;5;241m=\u001b[39m edges\n\u001b[0;32m---> 59\u001b[0m x, change_edges \u001b[38;5;241m=\u001b[39m \u001b[43mdiscretize\u001b[49m\u001b[43m(\u001b[49m\u001b[43mfrac_change\u001b[49m\u001b[43m,\u001b[49m\u001b[43m \u001b[49m\u001b[43mn_points\u001b[49m\u001b[38;5;241;43m=\u001b[39;49m\u001b[38;5;241;43m51\u001b[39;49m\u001b[43m,\u001b[49m\u001b[43m \u001b[49m\u001b[43medges\u001b[49m\u001b[38;5;241;43m=\u001b[39;49m\u001b[43mchange_edges\u001b[49m\u001b[43m)\u001b[49m\n\u001b[1;32m     60\u001b[0m y, high_edges \u001b[38;5;241m=\u001b[39m discretize(frac_high, n_points\u001b[38;5;241m=\u001b[39m\u001b[38;5;241m11\u001b[39m, edges\u001b[38;5;241m=\u001b[39mhigh_edges)\n\u001b[1;32m     61\u001b[0m z, low_edges \u001b[38;5;241m=\u001b[39m discretize(frac_low, n_points\u001b[38;5;241m=\u001b[39m\u001b[38;5;241m11\u001b[39m, edges\u001b[38;5;241m=\u001b[39mlow_edges)\n",
      "File \u001b[0;32m~/Documents/Joe_Documents/Stanford/STATS 217/stock-market-hidden-markov-models/code/functions.py:46\u001b[0m, in \u001b[0;36mdiscretize\u001b[0;34m(x, n_points, edges)\u001b[0m\n\u001b[1;32m     44\u001b[0m \u001b[38;5;28;01mdef\u001b[39;00m \u001b[38;5;21mdiscretize\u001b[39m(x, n_points, edges\u001b[38;5;241m=\u001b[39m\u001b[38;5;28;01mNone\u001b[39;00m):\n\u001b[1;32m     45\u001b[0m     \u001b[38;5;28;01mif\u001b[39;00m edges \u001b[38;5;129;01mis\u001b[39;00m \u001b[38;5;28;01mNone\u001b[39;00m:\n\u001b[0;32m---> 46\u001b[0m         edges \u001b[38;5;241m=\u001b[39m np\u001b[38;5;241m.\u001b[39mlinspace(\u001b[43mx\u001b[49m\u001b[38;5;241;43m.\u001b[39;49m\u001b[43mmin\u001b[49m\u001b[43m(\u001b[49m\u001b[43m)\u001b[49m, x\u001b[38;5;241m.\u001b[39mmax(), num\u001b[38;5;241m=\u001b[39mn_points)\n\u001b[1;32m     47\u001b[0m     \u001b[38;5;28;01mreturn\u001b[39;00m np\u001b[38;5;241m.\u001b[39msum(x\u001b[38;5;241m.\u001b[39mreshape(\u001b[38;5;241m-\u001b[39m\u001b[38;5;241m1\u001b[39m, \u001b[38;5;241m1\u001b[39m) \u001b[38;5;241m>\u001b[39m edges, axis\u001b[38;5;241m=\u001b[39m\u001b[38;5;241m1\u001b[39m), edges\n",
      "File \u001b[0;32m~/opt/anaconda3/envs/cs224n/lib/python3.10/site-packages/numpy/core/_methods.py:45\u001b[0m, in \u001b[0;36m_amin\u001b[0;34m(a, axis, out, keepdims, initial, where)\u001b[0m\n\u001b[1;32m     43\u001b[0m \u001b[38;5;28;01mdef\u001b[39;00m \u001b[38;5;21m_amin\u001b[39m(a, axis\u001b[38;5;241m=\u001b[39m\u001b[38;5;28;01mNone\u001b[39;00m, out\u001b[38;5;241m=\u001b[39m\u001b[38;5;28;01mNone\u001b[39;00m, keepdims\u001b[38;5;241m=\u001b[39m\u001b[38;5;28;01mFalse\u001b[39;00m,\n\u001b[1;32m     44\u001b[0m           initial\u001b[38;5;241m=\u001b[39m_NoValue, where\u001b[38;5;241m=\u001b[39m\u001b[38;5;28;01mTrue\u001b[39;00m):\n\u001b[0;32m---> 45\u001b[0m     \u001b[38;5;28;01mreturn\u001b[39;00m \u001b[43mumr_minimum\u001b[49m\u001b[43m(\u001b[49m\u001b[43ma\u001b[49m\u001b[43m,\u001b[49m\u001b[43m \u001b[49m\u001b[43maxis\u001b[49m\u001b[43m,\u001b[49m\u001b[43m \u001b[49m\u001b[38;5;28;43;01mNone\u001b[39;49;00m\u001b[43m,\u001b[49m\u001b[43m \u001b[49m\u001b[43mout\u001b[49m\u001b[43m,\u001b[49m\u001b[43m \u001b[49m\u001b[43mkeepdims\u001b[49m\u001b[43m,\u001b[49m\u001b[43m \u001b[49m\u001b[43minitial\u001b[49m\u001b[43m,\u001b[49m\u001b[43m \u001b[49m\u001b[43mwhere\u001b[49m\u001b[43m)\u001b[49m\n",
      "\u001b[0;31mValueError\u001b[0m: zero-size array to reduction operation minimum which has no identity"
     ]
    }
   ],
   "source": [
    "# Replicate trials from the paper\n",
    "mapes = {}\n",
    "dpas = {}\n",
    "preds = {}\n",
    "\n",
    "# Paper constants (adjust as needed)\n",
    "latency = 10\n",
    "n_states = 4\n",
    "\n",
    "for tck, trials in train_trials.items():\n",
    "    mapes[tck] = {}\n",
    "    dpas[tck] = {}\n",
    "    for i, trial in trials.items():\n",
    "        # TODO: Write predictions to CSV file\n",
    "        results = run_trial(\n",
    "            dfs,\n",
    "            tck=tck, train_period=trial[\"train\"], test_period=trial[\"test\"],\n",
    "            latency=latency, n_states=n_states\n",
    "        )\n",
    "        mapes[tck][i] = results[\"MAPE\"]\n",
    "        dpas[tck][i] = results[\"DPA\"]"
   ]
  },
  {
   "cell_type": "code",
   "execution_count": 4,
   "metadata": {},
   "outputs": [
    {
     "name": "stdout",
     "output_type": "stream",
     "text": [
      "Training HMM on train period ('2021-01-04', '2022-01-03')\n"
     ]
    },
    {
     "ename": "ValueError",
     "evalue": "zero-size array to reduction operation minimum which has no identity",
     "output_type": "error",
     "traceback": [
      "\u001b[0;31m---------------------------------------------------------------------------\u001b[0m",
      "\u001b[0;31mValueError\u001b[0m                                Traceback (most recent call last)",
      "Cell \u001b[0;32mIn[4], line 10\u001b[0m\n\u001b[1;32m      6\u001b[0m n_states \u001b[38;5;241m=\u001b[39m \u001b[38;5;241m4\u001b[39m \u001b[38;5;66;03m# How many latent states do you want?\u001b[39;00m\n\u001b[1;32m      8\u001b[0m \u001b[38;5;66;03m# Do not need to edit the following code\u001b[39;00m\n\u001b[1;32m      9\u001b[0m \u001b[38;5;66;03m# Docstring in functions.py\u001b[39;00m\n\u001b[0;32m---> 10\u001b[0m \u001b[43mrun_trial\u001b[49m\u001b[43m(\u001b[49m\n\u001b[1;32m     11\u001b[0m \u001b[43m    \u001b[49m\u001b[43mdfs\u001b[49m\u001b[43m,\u001b[49m\u001b[43m \u001b[49m\u001b[43mtck\u001b[49m\u001b[43m,\u001b[49m\u001b[43m \u001b[49m\u001b[43mtrain_period\u001b[49m\u001b[43m,\u001b[49m\u001b[43m \u001b[49m\u001b[43mtest_period\u001b[49m\u001b[43m,\u001b[49m\u001b[43m \u001b[49m\u001b[43mlatency\u001b[49m\u001b[38;5;241;43m=\u001b[39;49m\u001b[43mlatency\u001b[49m\u001b[43m,\u001b[49m\u001b[43m \u001b[49m\u001b[43mn_states\u001b[49m\u001b[38;5;241;43m=\u001b[39;49m\u001b[43mn_states\u001b[49m\n\u001b[1;32m     12\u001b[0m \u001b[43m)\u001b[49m\n",
      "File \u001b[0;32m~/Documents/Joe_Documents/Stanford/STATS 217/stock-market-hidden-markov-models/code/functions.py:184\u001b[0m, in \u001b[0;36mrun_trial\u001b[0;34m(dfs, tck, train_period, test_period, latency, n_states)\u001b[0m\n\u001b[1;32m    181\u001b[0m start_test, end_test \u001b[38;5;241m=\u001b[39m test_period\n\u001b[1;32m    183\u001b[0m \u001b[38;5;28mprint\u001b[39m(\u001b[38;5;124mf\u001b[39m\u001b[38;5;124m\"\u001b[39m\u001b[38;5;124mTraining HMM on train period \u001b[39m\u001b[38;5;132;01m{\u001b[39;00mtrain_period\u001b[38;5;132;01m}\u001b[39;00m\u001b[38;5;124m\"\u001b[39m)\n\u001b[0;32m--> 184\u001b[0m hmm_model, (x_max, y_max), (train_fracs), train_edges \u001b[38;5;241m=\u001b[39m \u001b[43mtrain_hmm\u001b[49m\u001b[43m(\u001b[49m\n\u001b[1;32m    185\u001b[0m \u001b[43m    \u001b[49m\u001b[43mdf\u001b[49m\u001b[43m,\u001b[49m\n\u001b[1;32m    186\u001b[0m \u001b[43m    \u001b[49m\u001b[43mstart_date\u001b[49m\u001b[38;5;241;43m=\u001b[39;49m\u001b[43mstart_train\u001b[49m\u001b[43m,\u001b[49m\n\u001b[1;32m    187\u001b[0m \u001b[43m    \u001b[49m\u001b[43mend_date\u001b[49m\u001b[38;5;241;43m=\u001b[39;49m\u001b[43mend_train\u001b[49m\u001b[43m,\u001b[49m\n\u001b[1;32m    188\u001b[0m \u001b[43m    \u001b[49m\u001b[43mlatency\u001b[49m\u001b[38;5;241;43m=\u001b[39;49m\u001b[43mlatency\u001b[49m\u001b[43m,\u001b[49m\n\u001b[1;32m    189\u001b[0m \u001b[43m    \u001b[49m\u001b[43mn_states\u001b[49m\u001b[38;5;241;43m=\u001b[39;49m\u001b[43mn_states\u001b[49m\u001b[43m,\u001b[49m\n\u001b[1;32m    190\u001b[0m \u001b[43m\u001b[49m\u001b[43m)\u001b[49m\n\u001b[1;32m    191\u001b[0m \u001b[38;5;66;03m# print(\"Training Complete\")\u001b[39;00m\n\u001b[1;32m    193\u001b[0m \u001b[38;5;28mprint\u001b[39m(\u001b[38;5;124mf\u001b[39m\u001b[38;5;124m\"\u001b[39m\u001b[38;5;124mGenerating Predictions for test period \u001b[39m\u001b[38;5;132;01m{\u001b[39;00mtest_period\u001b[38;5;132;01m}\u001b[39;00m\u001b[38;5;124m\"\u001b[39m)\n",
      "File \u001b[0;32m~/Documents/Joe_Documents/Stanford/STATS 217/stock-market-hidden-markov-models/code/functions.py:97\u001b[0m, in \u001b[0;36mtrain_hmm\u001b[0;34m(df, start_date, end_date, latency, n_states, include_buffer)\u001b[0m\n\u001b[1;32m     95\u001b[0m \u001b[38;5;28;01mdef\u001b[39;00m \u001b[38;5;21mtrain_hmm\u001b[39m(df, start_date, end_date, latency\u001b[38;5;241m=\u001b[39m\u001b[38;5;241m10\u001b[39m, n_states\u001b[38;5;241m=\u001b[39m\u001b[38;5;241m4\u001b[39m, include_buffer\u001b[38;5;241m=\u001b[39m\u001b[38;5;28;01mTrue\u001b[39;00m):\n\u001b[1;32m     96\u001b[0m     train_df \u001b[38;5;241m=\u001b[39m get_data_subset(df, start_date, end_date, latency, include_buffer)\n\u001b[0;32m---> 97\u001b[0m     n, (x, y, _), fracs, edges \u001b[38;5;241m=\u001b[39m \u001b[43mget_3d_1d_obs\u001b[49m\u001b[43m(\u001b[49m\u001b[43mtrain_df\u001b[49m\u001b[43m)\u001b[49m\n\u001b[1;32m     98\u001b[0m     x_hmm \u001b[38;5;241m=\u001b[39m get_hmm_input(n, latency\u001b[38;5;241m=\u001b[39mlatency)\n\u001b[1;32m     99\u001b[0m     hmm_model \u001b[38;5;241m=\u001b[39m GMMHMM(\n\u001b[1;32m    100\u001b[0m         n_components\u001b[38;5;241m=\u001b[39mn_states, covariance_type\u001b[38;5;241m=\u001b[39m\u001b[38;5;124m\"\u001b[39m\u001b[38;5;124mdiag\u001b[39m\u001b[38;5;124m\"\u001b[39m, random_state\u001b[38;5;241m=\u001b[39m\u001b[38;5;241m217\u001b[39m, n_iter\u001b[38;5;241m=\u001b[39m\u001b[38;5;241m1000\u001b[39m\n\u001b[1;32m    101\u001b[0m     )\n",
      "File \u001b[0;32m~/Documents/Joe_Documents/Stanford/STATS 217/stock-market-hidden-markov-models/code/functions.py:59\u001b[0m, in \u001b[0;36mget_3d_1d_obs\u001b[0;34m(df, edges, x_max, y_max)\u001b[0m\n\u001b[1;32m     57\u001b[0m \u001b[38;5;28;01melse\u001b[39;00m:\n\u001b[1;32m     58\u001b[0m     change_edges, high_edges, low_edges \u001b[38;5;241m=\u001b[39m edges\n\u001b[0;32m---> 59\u001b[0m x, change_edges \u001b[38;5;241m=\u001b[39m \u001b[43mdiscretize\u001b[49m\u001b[43m(\u001b[49m\u001b[43mfrac_change\u001b[49m\u001b[43m,\u001b[49m\u001b[43m \u001b[49m\u001b[43mn_points\u001b[49m\u001b[38;5;241;43m=\u001b[39;49m\u001b[38;5;241;43m51\u001b[39;49m\u001b[43m,\u001b[49m\u001b[43m \u001b[49m\u001b[43medges\u001b[49m\u001b[38;5;241;43m=\u001b[39;49m\u001b[43mchange_edges\u001b[49m\u001b[43m)\u001b[49m\n\u001b[1;32m     60\u001b[0m y, high_edges \u001b[38;5;241m=\u001b[39m discretize(frac_high, n_points\u001b[38;5;241m=\u001b[39m\u001b[38;5;241m11\u001b[39m, edges\u001b[38;5;241m=\u001b[39mhigh_edges)\n\u001b[1;32m     61\u001b[0m z, low_edges \u001b[38;5;241m=\u001b[39m discretize(frac_low, n_points\u001b[38;5;241m=\u001b[39m\u001b[38;5;241m11\u001b[39m, edges\u001b[38;5;241m=\u001b[39mlow_edges)\n",
      "File \u001b[0;32m~/Documents/Joe_Documents/Stanford/STATS 217/stock-market-hidden-markov-models/code/functions.py:46\u001b[0m, in \u001b[0;36mdiscretize\u001b[0;34m(x, n_points, edges)\u001b[0m\n\u001b[1;32m     44\u001b[0m \u001b[38;5;28;01mdef\u001b[39;00m \u001b[38;5;21mdiscretize\u001b[39m(x, n_points, edges\u001b[38;5;241m=\u001b[39m\u001b[38;5;28;01mNone\u001b[39;00m):\n\u001b[1;32m     45\u001b[0m     \u001b[38;5;28;01mif\u001b[39;00m edges \u001b[38;5;129;01mis\u001b[39;00m \u001b[38;5;28;01mNone\u001b[39;00m:\n\u001b[0;32m---> 46\u001b[0m         edges \u001b[38;5;241m=\u001b[39m np\u001b[38;5;241m.\u001b[39mlinspace(\u001b[43mx\u001b[49m\u001b[38;5;241;43m.\u001b[39;49m\u001b[43mmin\u001b[49m\u001b[43m(\u001b[49m\u001b[43m)\u001b[49m, x\u001b[38;5;241m.\u001b[39mmax(), num\u001b[38;5;241m=\u001b[39mn_points)\n\u001b[1;32m     47\u001b[0m     \u001b[38;5;28;01mreturn\u001b[39;00m np\u001b[38;5;241m.\u001b[39msum(x\u001b[38;5;241m.\u001b[39mreshape(\u001b[38;5;241m-\u001b[39m\u001b[38;5;241m1\u001b[39m, \u001b[38;5;241m1\u001b[39m) \u001b[38;5;241m>\u001b[39m edges, axis\u001b[38;5;241m=\u001b[39m\u001b[38;5;241m1\u001b[39m), edges\n",
      "File \u001b[0;32m~/opt/anaconda3/envs/cs224n/lib/python3.10/site-packages/numpy/core/_methods.py:45\u001b[0m, in \u001b[0;36m_amin\u001b[0;34m(a, axis, out, keepdims, initial, where)\u001b[0m\n\u001b[1;32m     43\u001b[0m \u001b[38;5;28;01mdef\u001b[39;00m \u001b[38;5;21m_amin\u001b[39m(a, axis\u001b[38;5;241m=\u001b[39m\u001b[38;5;28;01mNone\u001b[39;00m, out\u001b[38;5;241m=\u001b[39m\u001b[38;5;28;01mNone\u001b[39;00m, keepdims\u001b[38;5;241m=\u001b[39m\u001b[38;5;28;01mFalse\u001b[39;00m,\n\u001b[1;32m     44\u001b[0m           initial\u001b[38;5;241m=\u001b[39m_NoValue, where\u001b[38;5;241m=\u001b[39m\u001b[38;5;28;01mTrue\u001b[39;00m):\n\u001b[0;32m---> 45\u001b[0m     \u001b[38;5;28;01mreturn\u001b[39;00m \u001b[43mumr_minimum\u001b[49m\u001b[43m(\u001b[49m\u001b[43ma\u001b[49m\u001b[43m,\u001b[49m\u001b[43m \u001b[49m\u001b[43maxis\u001b[49m\u001b[43m,\u001b[49m\u001b[43m \u001b[49m\u001b[38;5;28;43;01mNone\u001b[39;49;00m\u001b[43m,\u001b[49m\u001b[43m \u001b[49m\u001b[43mout\u001b[49m\u001b[43m,\u001b[49m\u001b[43m \u001b[49m\u001b[43mkeepdims\u001b[49m\u001b[43m,\u001b[49m\u001b[43m \u001b[49m\u001b[43minitial\u001b[49m\u001b[43m,\u001b[49m\u001b[43m \u001b[49m\u001b[43mwhere\u001b[49m\u001b[43m)\u001b[49m\n",
      "\u001b[0;31mValueError\u001b[0m: zero-size array to reduction operation minimum which has no identity"
     ]
    }
   ],
   "source": [
    "# Demo code\n",
    "tck = \"DELL\" # Ticker label (or the prefix of the CSV)\n",
    "train_period = (\"2021-01-04\", \"2022-01-03\") # Training Period\n",
    "test_period = (\"2023-01-03\", \"2023-07-11\") # Testing Period\n",
    "latency = 10 # How far back do you want to look?\n",
    "n_states = 4 # How many latent states do you want?\n",
    "\n",
    "# Do not need to edit the following code\n",
    "# Docstring in functions.py\n",
    "run_trial(\n",
    "    dfs, tck, train_period, test_period, latency=latency, n_states=n_states\n",
    ")"
   ]
  },
  {
   "cell_type": "code",
   "execution_count": 3,
   "metadata": {},
   "outputs": [
    {
     "name": "stdout",
     "output_type": "stream",
     "text": [
      "Training HMM on train period ('2003-02-10', '2004-09-10')\n",
      "Generating Predictions for test period ('2004-09-13', '2005-01-21')\n"
     ]
    },
    {
     "name": "stderr",
     "output_type": "stream",
     "text": [
      "100%|██████████| 92/92 [01:55<00:00,  1.25s/it]\n"
     ]
    },
    {
     "name": "stdout",
     "output_type": "stream",
     "text": [
      "AAPL trial with latent states = 3, context window size = 10\n",
      "MAPE = 0.018032310975446626, DPA = 0.5217391304347826\n",
      "Training HMM on train period ('2003-02-10', '2004-09-10')\n",
      "Generating Predictions for test period ('2004-09-13', '2005-01-21')\n"
     ]
    },
    {
     "name": "stderr",
     "output_type": "stream",
     "text": [
      "100%|██████████| 92/92 [02:49<00:00,  1.85s/it]\n"
     ]
    },
    {
     "name": "stdout",
     "output_type": "stream",
     "text": [
      "AAPL trial with latent states = 5, context window size = 10\n",
      "MAPE = 0.01556451275223328, DPA = 0.5652173913043478\n",
      "Training HMM on train period ('2003-02-10', '2004-09-10')\n",
      "Generating Predictions for test period ('2004-09-13', '2005-01-21')\n"
     ]
    },
    {
     "name": "stderr",
     "output_type": "stream",
     "text": [
      "100%|██████████| 92/92 [03:08<00:00,  2.04s/it]\n"
     ]
    },
    {
     "name": "stdout",
     "output_type": "stream",
     "text": [
      "AAPL trial with latent states = 6, context window size = 10\n",
      "MAPE = 0.01799853283167973, DPA = 0.5217391304347826\n",
      "Training HMM on train period ('2003-02-10', '2004-09-10')\n",
      "Generating Predictions for test period ('2004-09-13', '2005-01-21')\n"
     ]
    },
    {
     "name": "stderr",
     "output_type": "stream",
     "text": [
      "100%|██████████| 92/92 [03:47<00:00,  2.47s/it]"
     ]
    },
    {
     "name": "stdout",
     "output_type": "stream",
     "text": [
      "AAPL trial with latent states = 8, context window size = 10\n",
      "MAPE = 0.019813101049105438, DPA = 0.4673913043478261\n"
     ]
    },
    {
     "name": "stderr",
     "output_type": "stream",
     "text": [
      "\n"
     ]
    }
   ],
   "source": [
    "# Experiment 1 - Robustness check on number of latent statesX\n",
    "\n",
    "tck = \"AAPL\" # Ticker label (or the prefix of the CSV)\n",
    "train_period = (\"2003-02-10\", \"2004-09-10\") # Training Period\n",
    "test_period = (\"2004-09-13\", \"2005-01-21\") # Testing Period\n",
    "latency = 10\n",
    "n_states = [3, 5, 6, 8]\n",
    "\n",
    "for n in n_states:\n",
    "    run_trial(\n",
    "        dfs, tck, train_period, test_period, latency=latency, n_states=n\n",
    ")"
   ]
  },
  {
   "cell_type": "code",
   "execution_count": 10,
   "metadata": {},
   "outputs": [
    {
     "name": "stdout",
     "output_type": "stream",
     "text": [
      "Training HMM on train period ('2003-02-10', '2004-09-10')\n",
      "Generating Predictions for test period ('2004-09-13', '2005-01-21')\n"
     ]
    },
    {
     "name": "stderr",
     "output_type": "stream",
     "text": [
      "100%|██████████| 92/92 [02:41<00:00,  1.76s/it]\n"
     ]
    },
    {
     "name": "stdout",
     "output_type": "stream",
     "text": [
      "AAPL trial with latent states = 4, context window size = 6\n",
      "MAPE = 0.020190013202262852, DPA = 0.4673913043478261\n",
      "--------------------------------------------------------------------------------\n",
      "Training HMM on train period ('2003-02-10', '2004-09-10')\n",
      "Generating Predictions for test period ('2004-09-13', '2005-01-21')\n"
     ]
    },
    {
     "name": "stderr",
     "output_type": "stream",
     "text": [
      "100%|██████████| 92/92 [02:31<00:00,  1.65s/it]\n"
     ]
    },
    {
     "name": "stdout",
     "output_type": "stream",
     "text": [
      "AAPL trial with latent states = 4, context window size = 20\n",
      "MAPE = 0.03103308427031748, DPA = 0.5434782608695652\n",
      "--------------------------------------------------------------------------------\n",
      "Training HMM on train period ('2003-02-10', '2004-09-10')\n",
      "Generating Predictions for test period ('2004-09-13', '2005-01-21')\n"
     ]
    },
    {
     "name": "stderr",
     "output_type": "stream",
     "text": [
      "100%|██████████| 92/92 [02:33<00:00,  1.67s/it]"
     ]
    },
    {
     "name": "stdout",
     "output_type": "stream",
     "text": [
      "AAPL trial with latent states = 4, context window size = 50\n",
      "MAPE = 0.028545792493187165, DPA = 0.5434782608695652\n",
      "--------------------------------------------------------------------------------\n"
     ]
    },
    {
     "name": "stderr",
     "output_type": "stream",
     "text": [
      "\n"
     ]
    }
   ],
   "source": [
    "# Experiment 2 - Robustness check on context window size\n",
    "\n",
    "tck = \"AAPL\" # Ticker label (or the prefix of the CSV)\n",
    "train_period = (\"2003-02-10\", \"2004-09-10\") # Training Period\n",
    "test_period = (\"2004-09-13\", \"2005-01-21\") # Testing Period\n",
    "latency = [6, 20, 50]\n",
    "n_states = 4\n",
    "\n",
    "for l in latency:\n",
    "    run_trial(\n",
    "        dfs, tck, train_period, test_period, latency=l, n_states=n_states\n",
    ")"
   ]
  },
  {
   "cell_type": "code",
   "execution_count": 4,
   "metadata": {},
   "outputs": [
    {
     "name": "stdout",
     "output_type": "stream",
     "text": [
      "Training HMM on train period ('2003-02-10', '2004-09-10')\n",
      "Generating Predictions for test period ('2004-09-13', '2005-01-21')\n"
     ]
    },
    {
     "name": "stderr",
     "output_type": "stream",
     "text": [
      "100%|██████████| 92/92 [02:12<00:00,  1.44s/it]\n"
     ]
    },
    {
     "name": "stdout",
     "output_type": "stream",
     "text": [
      "FORD trial with latent states = 4, context window size = 10\n",
      "MAPE = 0.04928547908458648, DPA = 0.43478260869565216\n",
      "--------------------------------------------------------------------------------\n",
      "Training HMM on train period ('2003-02-10', '2004-09-10')\n",
      "Generating Predictions for test period ('2004-09-13', '2005-01-21')\n"
     ]
    },
    {
     "name": "stderr",
     "output_type": "stream",
     "text": [
      "100%|██████████| 92/92 [02:31<00:00,  1.65s/it]\n"
     ]
    },
    {
     "name": "stdout",
     "output_type": "stream",
     "text": [
      "MACYS trial with latent states = 4, context window size = 10\n",
      "MAPE = 0.012593953070271639, DPA = 0.5108695652173914\n",
      "--------------------------------------------------------------------------------\n",
      "Training HMM on train period ('2003-02-10', '2004-09-10')\n",
      "Generating Predictions for test period ('2004-09-13', '2005-01-21')\n"
     ]
    },
    {
     "name": "stderr",
     "output_type": "stream",
     "text": [
      "100%|██████████| 92/92 [02:25<00:00,  1.58s/it]"
     ]
    },
    {
     "name": "stdout",
     "output_type": "stream",
     "text": [
      "SP500 trial with latent states = 4, context window size = 10\n",
      "MAPE = 0.012041312248848975, DPA = 0.532608695652174\n",
      "--------------------------------------------------------------------------------\n"
     ]
    },
    {
     "name": "stderr",
     "output_type": "stream",
     "text": [
      "\n"
     ]
    }
   ],
   "source": [
    "# Experiment 3 - Generalizability test on different stocks at same time period\n",
    "\n",
    "tcks = [\"FORD\", \"MACYS\", \"SP500\"] # Ticker label (or the prefix of the CSV)\n",
    "train_period = (\"2003-02-10\", \"2004-09-10\") # Training Period\n",
    "test_period = (\"2004-09-13\", \"2005-01-21\") # Testing Period\n",
    "latency = 10\n",
    "n_states = 4\n",
    "\n",
    "for tck in tcks:\n",
    "    run_trial(\n",
    "        dfs, tck, train_period, test_period, latency=latency, n_states=n_states\n",
    ")"
   ]
  },
  {
   "cell_type": "code",
   "execution_count": 8,
   "metadata": {},
   "outputs": [
    {
     "name": "stdout",
     "output_type": "stream",
     "text": [
      "Training HMM on train period ('2011-02-10', '2011-09-12')\n",
      "Generating Predictions for test period ('2011-09-13', '2012-01-23')\n"
     ]
    },
    {
     "name": "stderr",
     "output_type": "stream",
     "text": [
      "100%|██████████| 91/91 [02:20<00:00,  1.55s/it]\n"
     ]
    },
    {
     "name": "stdout",
     "output_type": "stream",
     "text": [
      "AAPL trial with latent states = 4, context window size = 10\n",
      "MAPE = 0.010416632111321406, DPA = 0.5164835164835165\n",
      "--------------------------------------------------------------------------------\n",
      "Training HMM on train period ('2015-02-10', '2015-09-10')\n",
      "Generating Predictions for test period ('2015-09-14', '2016-01-21')\n"
     ]
    },
    {
     "name": "stderr",
     "output_type": "stream",
     "text": [
      "100%|██████████| 90/90 [02:36<00:00,  1.74s/it]"
     ]
    },
    {
     "name": "stdout",
     "output_type": "stream",
     "text": [
      "AAPL trial with latent states = 4, context window size = 10\n",
      "MAPE = 0.012544328290483658, DPA = 0.4111111111111111\n",
      "--------------------------------------------------------------------------------\n"
     ]
    },
    {
     "name": "stderr",
     "output_type": "stream",
     "text": [
      "\n"
     ]
    }
   ],
   "source": [
    "# Experiment 4 - Generalizability test of same stock at different time periods\n",
    "\n",
    "tck = \"AAPL\" # Ticker label (or the prefix of the CSV)\n",
    "train_periods = [(\"2005-02-10\", \"2005-09-09\"), \n",
    "                 (\"2011-02-10\", \"2011-09-12\"),\n",
    "                 (\"2015-02-10\", \"2015-09-10\")] \n",
    "test_periods = [(\"2005-09-12\", \"2006-01-20\"), \n",
    "                (\"2011-09-13\", \"2012-01-23\"),\n",
    "                (\"2015-09-14\", \"2016-01-21\")] \n",
    "latency = 10\n",
    "n_states = 4\n",
    "\n",
    "for i in range(len(train_periods)):\n",
    "    train_period = train_periods[i]\n",
    "    test_period = test_periods[i]\n",
    "    run_trial(\n",
    "        dfs, tck, train_period, test_period, latency=latency, n_states=n_states\n",
    ")"
   ]
  },
  {
   "cell_type": "code",
   "execution_count": null,
   "metadata": {},
   "outputs": [],
   "source": []
  }
 ],
 "metadata": {
  "kernelspec": {
   "display_name": "cs224n",
   "language": "python",
   "name": "cs224n"
  },
  "language_info": {
   "codemirror_mode": {
    "name": "ipython",
    "version": 3
   },
   "file_extension": ".py",
   "mimetype": "text/x-python",
   "name": "python",
   "nbconvert_exporter": "python",
   "pygments_lexer": "ipython3",
   "version": "3.7.15"
  }
 },
 "nbformat": 4,
 "nbformat_minor": 2
}
