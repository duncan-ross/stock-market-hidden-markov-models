{
 "cells": [
  {
   "cell_type": "code",
   "execution_count": 1,
   "metadata": {},
   "outputs": [],
   "source": [
    "from hmmlearn.hmm import GMMHMM\n",
    "import numpy as np\n",
    "import pandas as pd\n",
    "import re\n",
    "from tqdm import tqdm"
   ]
  },
  {
   "cell_type": "code",
   "execution_count": 2,
   "metadata": {},
   "outputs": [],
   "source": [
    "def discretize(x, n_points, edges=None):\n",
    "    if edges is None:\n",
    "        edges = np.linspace(x.min(), x.max(), num=n_points)\n",
    "    return np.sum(x.reshape(-1, 1) > edges, axis=1), edges\n",
    "\n",
    "def get_3d_1d_obs(df, edges=None, x_max=None, y_max=None):\n",
    "    frac_change = np.array((df.Close - df.Open) / df.Open)\n",
    "    frac_high = np.array((df.High - df.Open) / df.Open)\n",
    "    frac_low = np.array((df.Open - df.Low) / df.Open)\n",
    "\n",
    "    if edges is None:\n",
    "        change_edges, high_edges, low_edges = None, None, None\n",
    "    else:\n",
    "        change_edges, high_edges, low_edges = edges\n",
    "    x, change_edges = discretize(frac_change, n_points=51, edges=change_edges)\n",
    "    y, high_edges = discretize(frac_high, n_points=11, edges=high_edges)\n",
    "    z, low_edges = discretize(frac_low, n_points=11, edges=low_edges)\n",
    "\n",
    "    if x_max is None:\n",
    "        x_max = x.max()\n",
    "    if y_max is None:\n",
    "        y_max = y.max()\n",
    "    \n",
    "    n = (z - 1) * (x.max() * y.max()) + (y - 1) * x.max() + x\n",
    "\n",
    "    return (\n",
    "        n,\n",
    "        (x, y, z),\n",
    "        (frac_change, frac_high, frac_low),\n",
    "        (change_edges, high_edges, low_edges)\n",
    "    )\n",
    "\n",
    "def get_hmm_input(n):\n",
    "    n = n.reshape(-1, 1)\n",
    "    for i in range(1, 10):\n",
    "        n = np.hstack((n, np.roll(n[:, 0], -i).reshape(-1, 1)))\n",
    "    n = n[:-9]\n",
    "    return n.reshape(-1, 1)\n",
    "\n",
    "def get_data_subset(df, start_date, end_date, include_buffer=True):\n",
    "    df.reset_index(drop=True, inplace=True)\n",
    "    start_idx = np.arange(df.shape[0])[df.Date == start_date].item()\n",
    "    if include_buffer:\n",
    "        start_idx -= 9\n",
    "    end_idx = np.arange(df.shape[0])[df.Date == end_date].item()\n",
    "    return df.iloc[start_idx:(end_idx + 1)]"
   ]
  },
  {
   "cell_type": "code",
   "execution_count": 3,
   "metadata": {},
   "outputs": [],
   "source": [
    "def train_hmm(df, start_date, end_date, include_buffer=True):\n",
    "    train_df = get_data_subset(df, start_date, end_date, include_buffer)\n",
    "    n, (x, y, _), fracs, edges = get_3d_1d_obs(train_df)\n",
    "    x_hmm = get_hmm_input(n)\n",
    "    hmm_model = GMMHMM(\n",
    "        n_components=4, covariance_type=\"diag\", random_state=217, n_iter=1000\n",
    "    )\n",
    "    hmm_model.fit(X=x_hmm, lengths=[10 for _ in range(x_hmm.shape[0] // 10)])\n",
    "    return hmm_model, (x.max(), y.max()), fracs, edges\n",
    "\n",
    "def predict_hmm(\n",
    "        df, start_date, end_date, hmm_model,\n",
    "        frac_change, edges, x_max, y_max, include_buffer=True\n",
    "    ):\n",
    "    test_df = get_data_subset(df, start_date, end_date, include_buffer)\n",
    "    n, _, _, _ = get_3d_1d_obs(test_df, edges, x_max, y_max)\n",
    "    x_hmm_test = get_hmm_input(n).reshape(-1, 10)[:, :9]\n",
    "    best_xs = []\n",
    "    print(\"Running Predictions\")\n",
    "    for x_hmm in tqdm(x_hmm_test):\n",
    "        best_ll = float(\"-inf\")\n",
    "        for x in range(50):\n",
    "            for y in range(10):\n",
    "                for z in range(10):\n",
    "                    n_i = (z - 1) * (x_max * y_max) + (y - 1) * x_max + x\n",
    "                    score = hmm_model.score(\n",
    "                        np.concatenate((x_hmm, np.array([n_i]))).reshape(-1, 1)\n",
    "                    )\n",
    "                    if score > best_ll:\n",
    "                        best_x = x\n",
    "                        best_ll = score\n",
    "        best_xs.append(best_x)\n",
    "\n",
    "    if include_buffer:\n",
    "        test_df = test_df.iloc[9:]\n",
    "    s = test_df.Open.to_numpy()\n",
    "    c = test_df.Close.to_numpy()\n",
    "    p = (1 + np.array([frac_change[x] for x in best_xs])) * s\n",
    "\n",
    "    return s, c, p\n",
    "\n",
    "def calculate_mape_dpa(p, c, s):\n",
    "    mape = np.mean(np.abs(p - c) / c)\n",
    "    dpa = np.mean(np.sign(p - s) == np.sign(c - s))\n",
    "    return mape, dpa"
   ]
  },
  {
   "cell_type": "code",
   "execution_count": 4,
   "metadata": {},
   "outputs": [],
   "source": [
    "dfs = {\n",
    "    tck: pd.read_csv(f\"../data/input/{tck}.csv\")\n",
    "    for tck in (\"AAPL\", \"DELL\", \"IBM\")\n",
    "}\n",
    "\n",
    "# Process Dell data\n",
    "def process_dell_prices(col):\n",
    "    return [float(re.findall(\"(?<=\\$).*\", x)[0]) for x in col]\n",
    "\n",
    "dfs[\"DELL\"][\"Close\"] = process_dell_prices(dfs[\"DELL\"][\"Close/Last\"])\n",
    "dfs[\"DELL\"][\"Open\"] = process_dell_prices(dfs[\"DELL\"][\"Open\"])\n",
    "dfs[\"DELL\"][\"High\"] = process_dell_prices(dfs[\"DELL\"][\"High\"])\n",
    "dfs[\"DELL\"][\"Low\"] = process_dell_prices(dfs[\"DELL\"][\"Low\"])"
   ]
  },
  {
   "cell_type": "code",
   "execution_count": 5,
   "metadata": {},
   "outputs": [
    {
     "name": "stdout",
     "output_type": "stream",
     "text": [
      "Running Predictions\n"
     ]
    },
    {
     "name": "stderr",
     "output_type": "stream",
     "text": [
      "100%|██████████| 92/92 [01:10<00:00,  1.30it/s]\n"
     ]
    },
    {
     "data": {
      "text/plain": [
       "(0.01556451275223328, 0.5652173913043478)"
      ]
     },
     "execution_count": 5,
     "metadata": {},
     "output_type": "execute_result"
    }
   ],
   "source": [
    "aapl = dfs[\"AAPL\"]\n",
    "hmm_model, (x_max, y_max), (train_fracs), train_edges = train_hmm(\n",
    "    aapl, start_date=\"2003-02-10\", end_date=\"2004-09-10\"\n",
    ")\n",
    "\n",
    "s_test, c_test, p_test = predict_hmm(\n",
    "    aapl, start_date=\"2004-09-13\", end_date=\"2005-01-21\", hmm_model=hmm_model,\n",
    "    frac_change=train_fracs[0], edges=train_edges, x_max=x_max, y_max=y_max\n",
    ")\n",
    "\n",
    "calculate_mape_dpa(p=p_test, c=c_test, s=s_test)"
   ]
  }
 ],
 "metadata": {
  "kernelspec": {
   "display_name": "Python 3",
   "language": "python",
   "name": "python3"
  },
  "language_info": {
   "codemirror_mode": {
    "name": "ipython",
    "version": 3
   },
   "file_extension": ".py",
   "mimetype": "text/x-python",
   "name": "python",
   "nbconvert_exporter": "python",
   "pygments_lexer": "ipython3",
   "version": "3.11.7"
  }
 },
 "nbformat": 4,
 "nbformat_minor": 2
}
