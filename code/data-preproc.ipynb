{
 "cells": [
  {
   "cell_type": "code",
   "execution_count": 6,
   "metadata": {},
   "outputs": [],
   "source": [
    "import numpy as np\n",
    "import pandas as pd\n",
    "import re"
   ]
  },
  {
   "cell_type": "code",
   "execution_count": 7,
   "metadata": {},
   "outputs": [],
   "source": [
    "dfs = {tck: pd.read_csv(f\"../data/{tck}.csv\") for tck in (\"AAPL\", \"DELL\", \"IBM\")}\n",
    "\n",
    "# Process Dell data\n",
    "def process_dell_prices(col):\n",
    "    return [float(re.findall(\"(?<=\\$).*\", x)[0]) for x in col]\n",
    "\n",
    "dfs[\"DELL\"][\"Close\"] = process_dell_prices(dfs[\"DELL\"][\"Close/Last\"])\n",
    "dfs[\"DELL\"][\"Open\"] = process_dell_prices(dfs[\"DELL\"][\"Open\"])\n",
    "dfs[\"DELL\"][\"High\"] = process_dell_prices(dfs[\"DELL\"][\"High\"])\n",
    "dfs[\"DELL\"][\"Low\"] = process_dell_prices(dfs[\"DELL\"][\"Low\"])"
   ]
  },
  {
   "cell_type": "code",
   "execution_count": 18,
   "metadata": {},
   "outputs": [],
   "source": [
    "def discretize(x, n_points):\n",
    "    edges = np.linspace(x.min(), x.max(), num=n_points)\n",
    "    return np.sum(x.reshape(-1, 1) > edges, axis=1)\n",
    "\n",
    "def get_3d_1d_obs(df):\n",
    "    frac_change = np.array((df.Close - df.Open) / df.Open)\n",
    "    frac_high = np.array((df.High - df.Open) / df.Open)\n",
    "    frac_low = np.array((df.Open - df.Low) / df.Open)\n",
    "\n",
    "    x = discretize(frac_change, n_points=51)\n",
    "    y = discretize(frac_high, n_points=11)\n",
    "    z = discretize(frac_low, n_points=11)\n",
    "\n",
    "    n = (z - 1) * (x.max() * y.max()) + (y - 1) * x.max() + x\n",
    "\n",
    "    return n, (x, y, z)"
   ]
  },
  {
   "cell_type": "code",
   "execution_count": 19,
   "metadata": {},
   "outputs": [],
   "source": [
    "xyzs = {}\n",
    "ns = {}\n",
    "for tck in dfs.keys():\n",
    "    n, xyz = get_3d_1d_obs(dfs[tck])\n",
    "    xyzs[tck] = xyz\n",
    "    ns[tck] = n"
   ]
  }
 ],
 "metadata": {
  "kernelspec": {
   "display_name": "Python 3",
   "language": "python",
   "name": "python3"
  },
  "language_info": {
   "codemirror_mode": {
    "name": "ipython",
    "version": 3
   },
   "file_extension": ".py",
   "mimetype": "text/x-python",
   "name": "python",
   "nbconvert_exporter": "python",
   "pygments_lexer": "ipython3",
   "version": "3.11.7"
  }
 },
 "nbformat": 4,
 "nbformat_minor": 2
}
